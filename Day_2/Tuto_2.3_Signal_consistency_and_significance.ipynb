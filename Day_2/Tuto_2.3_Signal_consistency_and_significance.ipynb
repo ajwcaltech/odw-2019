{
  "nbformat": 4,
  "nbformat_minor": 0,
  "metadata": {
    "kernelspec": {
      "name": "python3",
      "display_name": "Python 3"
    },
    "colab": {
      "name": "Tuto_2.3_Signal_consistency_and_significance.ipynb",
      "provenance": []
    }
  },
  "cells": [
    {
      "cell_type": "markdown",
      "metadata": {
        "id": "OYTwnzf6EqAo",
        "colab_type": "text"
      },
      "source": [
        "<img style=\"float: left;padding: 1.3em\" src=\"https://indico.in2p3.fr/event/18313/logo-786578160.png\">  \n",
        "\n",
        "#  Gravitational Wave Open Data Workshop #2\n",
        "\n",
        "\n",
        "## Tutorial 2.3: PyCBC Tutorial, Signal Consistency and Significance\n",
        "\n",
        "We will be using the [PyCBC](http://github.com/ligo-cbc/pycbc) library, which is used to study gravitational-wave data, find astrophysical sources due to compact binary mergers, and study their parameters. These are some of the same tools that the LIGO and Virgo collaborations use to find gravitational waves in LIGO/Virgo data \n",
        "\n",
        "In this tutorial we will walk through estimating the significance of a peak in a signal, given a simplified search (with some assumptions as noted along the way). We will also make use of one of the standard signal consistency tests to help remove some non-Gaussian transient noise from the background.\n",
        "\n",
        "[Click this link to view this tutorial in Google Colaboratory](https://colab.research.google.com/github/gw-odw/odw-2019/blob/master/Day_2/Tuto_2.3_Signal_consistency_and_significance.ipynb)\n",
        "\n",
        "Additional [examples](http://pycbc.org/pycbc/latest/html/#library-examples-and-interactive-tutorials) and module level documentation are [here](http://pycbc.org/pycbc/latest/html/py-modindex.html)"
      ]
    },
    {
      "cell_type": "markdown",
      "metadata": {
        "id": "TR3N8XY0EqBD",
        "colab_type": "text"
      },
      "source": [
        "## Installation (execute only if running on a cloud platform!)"
      ]
    },
    {
      "cell_type": "code",
      "metadata": {
        "scrolled": false,
        "id": "82Q31XpjEqBE",
        "colab_type": "code",
        "colab": {
          "base_uri": "https://localhost:8080/",
          "height": 1000
        },
        "outputId": "3ccadc7c-d45b-4b47-c11f-a1f3c9ca6e15"
      },
      "source": [
        "import sys\n",
        "!{sys.executable} -m pip install astropy healpy gwpy gwosc lalsuite ligo-common pycbc bilby  --no-cache-dir\n",
        "print(\"Python version = \",sys.version)\n",
        "! pip show numpy scipy astropy healpy gwpy gwosc lalsuite ligo-common pycbc bilby\n",
        "\n",
        "#! wget --output-document=requirements.txt 'https://raw.githubusercontent.com/gw-odw/odw-2019/master/requirements.txt'\n",
        "#! pip install -r ./requirements.txt"
      ],
      "execution_count": 1,
      "outputs": [
        {
          "output_type": "stream",
          "text": [
            "Requirement already satisfied: astropy in /usr/local/lib/python3.6/dist-packages (3.0.5)\n",
            "Collecting healpy\n",
            "\u001b[?25l  Downloading https://files.pythonhosted.org/packages/30/18/04e88aff3d4cc6818465c0e397f8e87fb51403f65afc5c119f90c4932ba3/healpy-1.13.0-cp36-cp36m-manylinux1_x86_64.whl (11.8MB)\n",
            "\u001b[K     |████████████████████████████████| 11.8MB 3.6MB/s \n",
            "\u001b[?25hCollecting gwpy\n",
            "\u001b[?25l  Downloading https://files.pythonhosted.org/packages/f0/33/6c78801e1f6f55932321e1de80f9fe6ba006298cc3e03978a88859286e6f/gwpy-1.0.1-py2.py3-none-any.whl (1.4MB)\n",
            "\u001b[K     |████████████████████████████████| 1.4MB 52.7MB/s \n",
            "\u001b[?25hCollecting gwosc\n",
            "  Downloading https://files.pythonhosted.org/packages/6d/ff/67426ce11f9f3432e020f5d5ef796e1d8e1c2a76b555c8705177f4347f99/gwosc-0.4.3-py2.py3-none-any.whl\n",
            "Collecting lalsuite\n",
            "\u001b[?25l  Downloading https://files.pythonhosted.org/packages/ad/b9/9f4363ddda7455816fe0592a08220e9496032b689ed070a0162ca09a7e54/lalsuite-6.65-cp36-cp36m-manylinux2010_x86_64.whl (28.5MB)\n",
            "\u001b[K     |████████████████████████████████| 28.5MB 1.4MB/s \n",
            "\u001b[?25hCollecting ligo-common\n",
            "  Downloading https://files.pythonhosted.org/packages/a6/9c/1fbe176feea9abad5c0f3fa090dcffccf44bbcba0f0c754b03d8fea1a36e/ligo_common-1.0.3-py2.py3-none-any.whl\n",
            "Collecting pycbc\n",
            "\u001b[?25l  Downloading https://files.pythonhosted.org/packages/4f/69/a62938cb5f3e143bcf44edbfa1bcca023578caa04b741bf4c5f6d9bd7fd6/PyCBC-1.15.3.tar.gz (3.1MB)\n",
            "\u001b[K     |████████████████████████████████| 3.1MB 37.9MB/s \n",
            "\u001b[?25h  Installing build dependencies ... \u001b[?25l\u001b[?25hdone\n",
            "  Getting requirements to build wheel ... \u001b[?25l\u001b[?25hdone\n",
            "    Preparing wheel metadata ... \u001b[?25l\u001b[?25hdone\n",
            "Collecting bilby\n",
            "\u001b[?25l  Downloading https://files.pythonhosted.org/packages/6d/34/b3eb6fe074775cdded846aa0e5e0d3e9c02fc234d02549a0e2a5523f19cf/bilby-0.6.3.tar.gz (1.5MB)\n",
            "\u001b[K     |████████████████████████████████| 1.5MB 38.3MB/s \n",
            "\u001b[?25hRequirement already satisfied: numpy>=1.10.0 in /usr/local/lib/python3.6/dist-packages (from astropy) (1.17.4)\n",
            "Requirement already satisfied: scipy in /usr/local/lib/python3.6/dist-packages (from healpy) (1.3.3)\n",
            "Requirement already satisfied: six in /usr/local/lib/python3.6/dist-packages (from healpy) (1.12.0)\n",
            "Requirement already satisfied: matplotlib in /usr/local/lib/python3.6/dist-packages (from healpy) (3.1.2)\n",
            "Requirement already satisfied: h5py>=1.3 in /usr/local/lib/python3.6/dist-packages (from gwpy) (2.8.0)\n",
            "Collecting ligotimegps>=1.2.1\n",
            "  Downloading https://files.pythonhosted.org/packages/69/b6/6d6d0585fa2ae936a9f5d411b1f0fbe9fcb0aca0c51a775aa4f8f95fdf5e/ligotimegps-2.0.1-py2.py3-none-any.whl\n",
            "Collecting gwdatafind\n",
            "  Downloading https://files.pythonhosted.org/packages/d6/9e/616124723b7a8f2a5399f9288b056bb31f37222b0b7cae46f6bafaa42154/gwdatafind-1.0.4-py2.py3-none-any.whl\n",
            "Requirement already satisfied: python-dateutil in /usr/local/lib/python3.6/dist-packages (from gwpy) (2.6.1)\n",
            "Collecting dqsegdb2\n",
            "  Downloading https://files.pythonhosted.org/packages/5d/97/355617233a3b4a25966b35a536379d23345e9783db009248a199a48e60dd/dqsegdb2-1.0.1-py2.py3-none-any.whl\n",
            "Requirement already satisfied: tqdm>=4.10.0 in /usr/local/lib/python3.6/dist-packages (from gwpy) (4.28.1)\n",
            "Collecting ligo-segments>=1.0.0\n",
            "\u001b[?25l  Downloading https://files.pythonhosted.org/packages/62/cd/225e331e95cf6aff8ba13bf9a8053b29248a5e71f7fa9bbb1f0db1eaadff/ligo-segments-1.2.0.tar.gz (48kB)\n",
            "\u001b[K     |████████████████████████████████| 51kB 38.1MB/s \n",
            "\u001b[?25hCollecting lscsoft-glue\n",
            "\u001b[?25l  Downloading https://files.pythonhosted.org/packages/3b/65/e93853bc1876516db8d58f4590dba1d6b85eaf9d1bd375926ac7897e525a/lscsoft-glue-2.0.0.tar.gz (1.6MB)\n",
            "\u001b[K     |████████████████████████████████| 1.6MB 33.7MB/s \n",
            "\u001b[?25hCollecting emcee==2.2.1\n",
            "  Downloading https://files.pythonhosted.org/packages/3f/d3/7635106605dedccd08705beac53be4c43a8da1caad6be667adbf93ed0965/emcee-2.2.1.tar.gz\n",
            "Requirement already satisfied: decorator>=3.4.2 in /usr/local/lib/python3.6/dist-packages (from pycbc) (4.4.1)\n",
            "Requirement already satisfied: jinja2 in /usr/local/lib/python3.6/dist-packages (from pycbc) (2.10.3)\n",
            "Collecting mpld3>=0.3\n",
            "\u001b[?25l  Downloading https://files.pythonhosted.org/packages/91/95/a52d3a83d0a29ba0d6898f6727e9858fe7a43f6c2ce81a5fe7e05f0f4912/mpld3-0.3.tar.gz (788kB)\n",
            "\u001b[K     |████████████████████████████████| 798kB 37.2MB/s \n",
            "\u001b[?25hRequirement already satisfied: pillow in /usr/local/lib/python3.6/dist-packages (from pycbc) (4.3.0)\n",
            "Requirement already satisfied: cython>=0.29 in /usr/local/lib/python3.6/dist-packages (from pycbc) (0.29.14)\n",
            "Requirement already satisfied: beautifulsoup4>=4.6.0 in /usr/local/lib/python3.6/dist-packages (from pycbc) (4.6.3)\n",
            "Requirement already satisfied: requests>=1.2.1 in /usr/local/lib/python3.6/dist-packages (from pycbc) (2.21.0)\n",
            "Collecting Mako>=1.0.1\n",
            "\u001b[?25l  Downloading https://files.pythonhosted.org/packages/b0/3c/8dcd6883d009f7cae0f3157fb53e9afb05a0d3d33b3db1268ec2e6f4a56b/Mako-1.1.0.tar.gz (463kB)\n",
            "\u001b[K     |████████████████████████████████| 471kB 42.2MB/s \n",
            "\u001b[?25hRequirement already satisfied: future in /usr/local/lib/python3.6/dist-packages (from bilby) (0.16.0)\n",
            "Collecting dynesty>=1.0.0\n",
            "\u001b[?25l  Downloading https://files.pythonhosted.org/packages/78/2d/7bb5f7e6eb7e67f5dbf276cfd98cbc93b78da79cefeb5c9cfc92cee20deb/dynesty-1.0.0-py2.py3-none-any.whl (84kB)\n",
            "\u001b[K     |████████████████████████████████| 92kB 52.7MB/s \n",
            "\u001b[?25hCollecting corner\n",
            "  Downloading https://files.pythonhosted.org/packages/65/af/a7ba022f2d5787f51db91b5550cbe8e8c40a6eebd8f15119e743a09a9c19/corner-2.0.1.tar.gz\n",
            "Requirement already satisfied: dill in /usr/local/lib/python3.6/dist-packages (from bilby) (0.3.1.1)\n",
            "Requirement already satisfied: pandas in /usr/local/lib/python3.6/dist-packages (from bilby) (0.25.3)\n",
            "Requirement already satisfied: pyparsing!=2.0.4,!=2.1.2,!=2.1.6,>=2.0.1 in /usr/local/lib/python3.6/dist-packages (from matplotlib->healpy) (2.4.5)\n",
            "Requirement already satisfied: kiwisolver>=1.0.1 in /usr/local/lib/python3.6/dist-packages (from matplotlib->healpy) (1.1.0)\n",
            "Requirement already satisfied: cycler>=0.10 in /usr/local/lib/python3.6/dist-packages (from matplotlib->healpy) (0.10.0)\n",
            "Collecting pyOpenSSL\n",
            "\u001b[?25l  Downloading https://files.pythonhosted.org/packages/9e/de/f8342b68fa9e981d348039954657bdf681b2ab93de27443be51865ffa310/pyOpenSSL-19.1.0-py2.py3-none-any.whl (53kB)\n",
            "\u001b[K     |████████████████████████████████| 61kB 43.5MB/s \n",
            "\u001b[?25hRequirement already satisfied: MarkupSafe>=0.23 in /usr/local/lib/python3.6/dist-packages (from jinja2->pycbc) (1.1.1)\n",
            "Requirement already satisfied: olefile in /usr/local/lib/python3.6/dist-packages (from pillow->pycbc) (0.46)\n",
            "Requirement already satisfied: idna<2.9,>=2.5 in /usr/local/lib/python3.6/dist-packages (from requests>=1.2.1->pycbc) (2.8)\n",
            "Requirement already satisfied: urllib3<1.25,>=1.21.1 in /usr/local/lib/python3.6/dist-packages (from requests>=1.2.1->pycbc) (1.24.3)\n",
            "Requirement already satisfied: chardet<3.1.0,>=3.0.2 in /usr/local/lib/python3.6/dist-packages (from requests>=1.2.1->pycbc) (3.0.4)\n",
            "Requirement already satisfied: certifi>=2017.4.17 in /usr/local/lib/python3.6/dist-packages (from requests>=1.2.1->pycbc) (2019.11.28)\n",
            "Requirement already satisfied: pytz>=2017.2 in /usr/local/lib/python3.6/dist-packages (from pandas->bilby) (2018.9)\n",
            "Requirement already satisfied: setuptools in /usr/local/lib/python3.6/dist-packages (from kiwisolver>=1.0.1->matplotlib->healpy) (42.0.2)\n",
            "Collecting cryptography>=2.8\n",
            "\u001b[?25l  Downloading https://files.pythonhosted.org/packages/ca/9a/7cece52c46546e214e10811b36b2da52ce1ea7fa203203a629b8dfadad53/cryptography-2.8-cp34-abi3-manylinux2010_x86_64.whl (2.3MB)\n",
            "\u001b[K     |████████████████████████████████| 2.3MB 34.3MB/s \n",
            "\u001b[?25hRequirement already satisfied: cffi!=1.11.3,>=1.8 in /usr/local/lib/python3.6/dist-packages (from cryptography>=2.8->pyOpenSSL->gwdatafind->gwpy) (1.13.2)\n",
            "Requirement already satisfied: pycparser in /usr/local/lib/python3.6/dist-packages (from cffi!=1.11.3,>=1.8->cryptography>=2.8->pyOpenSSL->gwdatafind->gwpy) (2.19)\n",
            "Building wheels for collected packages: pycbc\n",
            "  Building wheel for pycbc (PEP 517) ... \u001b[?25l\u001b[?25hdone\n",
            "  Created wheel for pycbc: filename=PyCBC-1.15.3-cp36-cp36m-linux_x86_64.whl size=5591059 sha256=533870aef3202870db754f8f9f7fdd491f9087feb398a2e548f3200c2d5a98cf\n",
            "  Stored in directory: /tmp/pip-ephem-wheel-cache-7wknsn5j/wheels/ed/93/51/aafc6d597c7e358296c1700a6b567235fd92060f040780d0dd\n",
            "Successfully built pycbc\n",
            "Building wheels for collected packages: bilby, ligo-segments, lscsoft-glue, emcee, mpld3, Mako, corner\n",
            "  Building wheel for bilby (setup.py) ... \u001b[?25l\u001b[?25hdone\n",
            "  Created wheel for bilby: filename=bilby-0.6.3-cp36-none-any.whl size=1563687 sha256=9987f1f6c05098d7d9e92ffdcfd1ba0b873b4a1f1e5f19a7cfcfec182ef46b0d\n",
            "  Stored in directory: /tmp/pip-ephem-wheel-cache-7wknsn5j/wheels/5d/7b/d6/a3ae90f4f15b68619cd2dbafcf9f0da48c69314663a7e6d7a3\n",
            "  Building wheel for ligo-segments (setup.py) ... \u001b[?25l\u001b[?25hdone\n",
            "  Created wheel for ligo-segments: filename=ligo_segments-1.2.0-cp36-cp36m-linux_x86_64.whl size=83621 sha256=3ab982cfd295a8ca269c0927ff9b7e6f8897b1cbec92f95a82cb8f5356923382\n",
            "  Stored in directory: /tmp/pip-ephem-wheel-cache-7wknsn5j/wheels/5d/1e/4a/ab4122baed7d67f6abce65b2b12049d3bc7fe5dad24edf89df\n",
            "  Building wheel for lscsoft-glue (setup.py) ... \u001b[?25l\u001b[?25hdone\n",
            "  Created wheel for lscsoft-glue: filename=lscsoft_glue-2.0.0-cp36-cp36m-linux_x86_64.whl size=414150 sha256=5c157bd9e51bb740e8f1bff5be0711b20cd6a6995c9a0dc65aa79331d6b1fa1e\n",
            "  Stored in directory: /tmp/pip-ephem-wheel-cache-7wknsn5j/wheels/aa/fa/38/d61b002c627ca54f03755b9a288f4b1fa83291608a4bc47b7b\n",
            "  Building wheel for emcee (setup.py) ... \u001b[?25l\u001b[?25hdone\n",
            "  Created wheel for emcee: filename=emcee-2.2.1-cp36-none-any.whl size=29596 sha256=a6ba0fb9a50774dc3f469cff9f9f71cda84a7d0d713d2beb93c8f886cd74b805\n",
            "  Stored in directory: /tmp/pip-ephem-wheel-cache-7wknsn5j/wheels/2f/5d/a5/78f84e23329ad7d9b1787c9d24371100cae74cdefe25eba50d\n",
            "  Building wheel for mpld3 (setup.py) ... \u001b[?25l\u001b[?25hdone\n",
            "  Created wheel for mpld3: filename=mpld3-0.3-cp36-none-any.whl size=116679 sha256=3999c145c063151245b79447b3d0dae89752e56883b754c24f89e03ade46ef77\n",
            "  Stored in directory: /tmp/pip-ephem-wheel-cache-7wknsn5j/wheels/c0/47/fb/8a64f89aecfe0059830479308ad42d62e898a3e3cefdf6ba28\n",
            "  Building wheel for Mako (setup.py) ... \u001b[?25l\u001b[?25hdone\n",
            "  Created wheel for Mako: filename=Mako-1.1.0-cp36-none-any.whl size=75363 sha256=630a236610a3b148f3ca8b0a58d1804e9664134086303d32c64b00e845bf1bc1\n",
            "  Stored in directory: /tmp/pip-ephem-wheel-cache-7wknsn5j/wheels/98/32/7b/a291926643fc1d1e02593e0d9e247c5a866a366b8343b7aa27\n",
            "  Building wheel for corner (setup.py) ... \u001b[?25l\u001b[?25hdone\n",
            "  Created wheel for corner: filename=corner-2.0.1-cp36-none-any.whl size=11643 sha256=29f0e4f65396fa0de0350150679d410114c1ab580eb06ee965ddb4beeccd8ab8\n",
            "  Stored in directory: /tmp/pip-ephem-wheel-cache-7wknsn5j/wheels/70/d8/e5/e0e7974a2a5757483ea5a180c937041cf6872dc9993d78234a\n",
            "Successfully built bilby ligo-segments lscsoft-glue emcee mpld3 Mako corner\n",
            "Installing collected packages: healpy, gwosc, ligotimegps, cryptography, pyOpenSSL, ligo-segments, gwdatafind, dqsegdb2, gwpy, lscsoft-glue, lalsuite, ligo-common, emcee, mpld3, Mako, pycbc, dynesty, corner, bilby\n",
            "Successfully installed Mako-1.1.0 bilby-0.6.3 corner-2.0.1 cryptography-2.8 dqsegdb2-1.0.1 dynesty-1.0.0 emcee-2.2.1 gwdatafind-1.0.4 gwosc-0.4.3 gwpy-1.0.1 healpy-1.13.0 lalsuite-6.65 ligo-common-1.0.3 ligo-segments-1.2.0 ligotimegps-2.0.1 lscsoft-glue-2.0.0 mpld3-0.3 pyOpenSSL-19.1.0 pycbc-1.15.3\n",
            "Python version =  3.6.9 (default, Nov  7 2019, 10:44:02) \n",
            "[GCC 8.3.0]\n",
            "Name: numpy\n",
            "Version: 1.17.4\n",
            "Summary: NumPy is the fundamental package for array computing with Python.\n",
            "Home-page: https://www.numpy.org\n",
            "Author: Travis E. Oliphant et al.\n",
            "Author-email: None\n",
            "License: BSD\n",
            "Location: /usr/local/lib/python3.6/dist-packages\n",
            "Requires: \n",
            "Required-by: yellowbrick, xgboost, xarray, wordcloud, umap-learn, torchvision, torchtext, torch, thinc, Theano, tflearn, tensorflow, tensorflow-probability, tensorflow-hub, tensorflow-datasets, tensorboard, tensor2tensor, tables, statsmodels, stable-baselines, spacy, sklearn-pandas, seaborn, scs, scipy, scikit-learn, resampy, PyWavelets, pystan, pysndfile, pymc3, pyemd, PyCBC, pyarrow, pretty-midi, plotnine, patsy, pandas, osqp, opt-einsum, opencv-python, opencv-contrib-python, numexpr, numba, np-utils, nibabel, moviepy, mlxtend, mizani, missingno, mir-eval, matplotlib, matplotlib-venn, magenta, lucid, lscsoft-glue, lightgbm, librosa, lalsuite, knnimpute, kfac, Keras, Keras-Preprocessing, Keras-Applications, kapre, jpeg4py, jaxlib, jax, imgaug, imbalanced-learn, imageio, hyperopt, healpy, h5py, gym, gwpy, graph-nets, gensim, folium, fix-yahoo-finance, featuretools, fbprophet, fastdtw, fastai, fancyimpute, fa2, emcee, ecos, dynesty, daft, cvxpy, cufflinks, corner, chainer, Bottleneck, bokeh, blis, bilby, autograd, atari-py, astropy, altair, albumentations\n",
            "---\n",
            "Name: scipy\n",
            "Version: 1.3.3\n",
            "Summary: SciPy: Scientific Library for Python\n",
            "Home-page: https://www.scipy.org\n",
            "Author: None\n",
            "Author-email: None\n",
            "License: BSD\n",
            "Location: /usr/local/lib/python3.6/dist-packages\n",
            "Requires: numpy\n",
            "Required-by: yellowbrick, xgboost, umap-learn, Theano, tensorflow-privacy, tensor2tensor, statsmodels, stable-baselines, sklearn-pandas, seaborn, scs, scikit-learn, scikit-image, resampy, pymc3, PyCBC, plotnine, osqp, mlxtend, missingno, mir-eval, matplotlib-venn, magenta, lucid, lightgbm, librosa, lalsuite, Keras, jaxlib, imgaug, imbalanced-learn, hyperopt, healpy, gym, gwpy, gensim, fastai, fancyimpute, fa2, ecos, dynesty, cvxpy, bilby, albumentations\n",
            "---\n",
            "Name: astropy\n",
            "Version: 3.0.5\n",
            "Summary: Community-developed python astronomy tools\n",
            "Home-page: http://astropy.org\n",
            "Author: The Astropy Developers\n",
            "Author-email: astropy.team@gmail.com\n",
            "License: BSD\n",
            "Location: /usr/local/lib/python3.6/dist-packages\n",
            "Requires: numpy\n",
            "Required-by: PyCBC, healpy, gwpy\n",
            "---\n",
            "Name: healpy\n",
            "Version: 1.13.0\n",
            "Summary: Healpix tools package for Python\n",
            "Home-page: http://github.com/healpy\n",
            "Author: C. Rosset, A. Zonca\n",
            "Author-email: cyrille.rosset@apc.univ-paris-diderot.fr\n",
            "License: GPLv2\n",
            "Location: /usr/local/lib/python3.6/dist-packages\n",
            "Requires: matplotlib, astropy, numpy, scipy, six\n",
            "Required-by: \n",
            "---\n",
            "Name: gwpy\n",
            "Version: 1.0.1\n",
            "Summary: A python package for gravitational-wave astrophysics\n",
            "Home-page: https://gwpy.github.io\n",
            "Author: Duncan Macleod\n",
            "Author-email: duncan.macleod@ligo.org\n",
            "License: GPL-3.0-or-later\n",
            "Location: /usr/local/lib/python3.6/dist-packages\n",
            "Requires: numpy, h5py, matplotlib, ligo-segments, gwdatafind, python-dateutil, tqdm, astropy, scipy, dqsegdb2, six, gwosc, ligotimegps\n",
            "Required-by: \n",
            "---\n",
            "Name: gwosc\n",
            "Version: 0.4.3\n",
            "Summary: A python interface to the GW Open Science data archive\n",
            "Home-page: https://github.com/gwpy/gwosc\n",
            "Author: Duncan Macleod\n",
            "Author-email: duncan.macleod@ligo.org\n",
            "License: MIT\n",
            "Location: /usr/local/lib/python3.6/dist-packages\n",
            "Requires: six\n",
            "Required-by: gwpy\n",
            "---\n",
            "Name: lalsuite\n",
            "Version: 6.65\n",
            "Summary: LIGO Scientific Collaboration Algorithm Library - minimal Python package\n",
            "Home-page: https://git.ligo.org/lscsoft/lalsuite\n",
            "Author: LIGO Scientific Collaboration\n",
            "Author-email: lal-discuss@ligo.org\n",
            "License: GPL-2+\n",
            "Location: /usr/local/lib/python3.6/dist-packages\n",
            "Requires: lscsoft-glue, numpy, matplotlib, ligo-segments, python-dateutil, scipy\n",
            "Required-by: \n",
            "---\n",
            "Name: ligo-common\n",
            "Version: 1.0.3\n",
            "Summary: Empty LIGO modules\n",
            "Home-page: UNKNOWN\n",
            "Author: None\n",
            "Author-email: None\n",
            "License: GPLv3\n",
            "Location: /usr/local/lib/python3.6/dist-packages\n",
            "Requires: \n",
            "Required-by: \n",
            "---\n",
            "Name: PyCBC\n",
            "Version: 1.15.3\n",
            "Summary: Core library to analyze gravitational-wave data, find signals, and study their parameters.\n",
            "Home-page: http://www.pycbc.org/\n",
            "Author: The PyCBC team\n",
            "Author-email: alex.nitz@gmail.org\n",
            "License: UNKNOWN\n",
            "Location: /usr/local/lib/python3.6/dist-packages\n",
            "Requires: requests, tqdm, lscsoft-glue, beautifulsoup4, ligo-segments, h5py, numpy, cython, jinja2, scipy, decorator, matplotlib, emcee, Mako, pillow, six, astropy, mpld3, numpy\n",
            "Required-by: \n",
            "---\n",
            "Name: bilby\n",
            "Version: 0.6.3\n",
            "Summary: A user-friendly Bayesian inference library\n",
            "Home-page: https://git.ligo.org/lscsoft/bilby\n",
            "Author: Greg Ashton, Moritz Huebner, Paul Lasky, Colm Talbot\n",
            "Author-email: paul.lasky@monash.edu\n",
            "License: MIT\n",
            "Location: /usr/local/lib/python3.6/dist-packages\n",
            "Requires: tqdm, corner, dynesty, pandas, numpy, dill, matplotlib, emcee, future, scipy\n",
            "Required-by: \n"
          ],
          "name": "stdout"
        }
      ]
    },
    {
      "cell_type": "markdown",
      "metadata": {
        "id": "igAX7s2HEqBH",
        "colab_type": "text"
      },
      "source": [
        "**Important:** With Google Colab, you may need to restart the runtime after running the cell above."
      ]
    },
    {
      "cell_type": "markdown",
      "metadata": {
        "id": "XTb1LmlHEqBI",
        "colab_type": "text"
      },
      "source": [
        "### Significance of Virgo SNR peak of GW170814 ###\n",
        "\n",
        "We will estimate the significance of signal-to-noise peak observed in the Virgo instrument near in time to the large peaks observed in the LIGO-Hanford and LIGO-Livingston observatories.\n",
        "\n",
        "For this purpose we will consider the existence of a gravitational wave signal to have been confirmed based on the signal from the LIGO detectors alone, as was in fact the case for the matched-filtering based analyses of GW170814, as they did not incorporate any information from the Virgo data.\n",
        "\n",
        "The question we will ask can be phrased as follows. *What is the probability that noise can produce a peak as large or larger than the largest peak observed in the Virgo data, within a consistent lightspeed travel time between all three observatories?* This is a form of null hypothesis testing, where we create a [p-value](https://en.wikipedia.org/wiki/P-value).\n",
        "\n",
        "For the purpose of this notebook, we may a few additional simplifying assumptions, and those will be stated as we go along."
      ]
    },
    {
      "cell_type": "markdown",
      "metadata": {
        "id": "V1Oa19UaEqBI",
        "colab_type": "text"
      },
      "source": [
        "#### Read and Precondition Gravitational Strain Data ####\n",
        "\n",
        "In this section, we will read in a short segment of data round GW170814, and do some basic preconditioning, as also demonstrated in previous tutorials. We will also calculate the power spectrum of the data. \n",
        "\n",
        "Notably, we are making the assumption here that the power spectral estimate of the data is constant over this short stretch of time, and isn't biased by the fact that we chose to center the estimate (very roughly) on the event time. We *do not* assume that the data is actually stationary, Gaussian, or is free from non-astrophysical transient artefacts."
      ]
    },
    {
      "cell_type": "code",
      "metadata": {
        "id": "6CDC5xs0EqBJ",
        "colab_type": "code",
        "colab": {
          "base_uri": "https://localhost:8080/",
          "height": 411
        },
        "outputId": "db7e858a-bcc4-4b79-879f-9d06c3151ed2"
      },
      "source": [
        "%matplotlib inline\n",
        "\n",
        "import pylab\n",
        "from pycbc.filter import resample_to_delta_t, highpass\n",
        "from pycbc.catalog import Merger\n",
        "from pycbc.psd import interpolate, inverse_spectrum_truncation\n",
        "\n",
        "m = Merger(\"GW170814\")\n",
        "\n",
        "ifos = ['H1', 'L1', 'V1']\n",
        "data = {}\n",
        "psd = {}\n",
        "\n",
        "pylab.figure(figsize=[10, 5])\n",
        "\n",
        "for ifo in ifos:\n",
        "    # Read in and precondition the data\n",
        "    ts = m.strain(ifo).highpass_fir(15, 512)\n",
        "    data[ifo] = resample_to_delta_t(ts, 1.0/2048).crop(2, 2)\n",
        "\n",
        "    # Estimate the power spectral density of the data\n",
        "    # This chooses to use 2s samples in the PSD estimate.\n",
        "    # One should note that the tradeoff in segment length is that\n",
        "    # resolving narrow lines becomes more difficult.\n",
        "    p = data[ifo].psd(2)\n",
        "    p = interpolate(p, data[ifo].delta_f)\n",
        "    p = inverse_spectrum_truncation(p, 2 * data[ifo].sample_rate, low_frequency_cutoff=15.0)\n",
        "    psd[ifo] = p\n",
        "    \n",
        "    pylab.plot(psd[ifo].sample_frequencies, psd[ifo], label=ifo)\n",
        "\n",
        "pylab.yscale('log')\n",
        "pylab.xscale('log')\n",
        "pylab.ylim(1e-47, 1e-41)\n",
        "pylab.xlim(20, 1024)\n",
        "pylab.ylabel('$Strain^2 / Hz$')\n",
        "pylab.xlabel('Frequency (Hz)')\n",
        "pylab.grid()\n",
        "pylab.legend()\n",
        "pylab.show()"
      ],
      "execution_count": 2,
      "outputs": [
        {
          "output_type": "stream",
          "text": [
            "Downloading https://www.gw-openscience.org/catalog/GWTC-1-confident/filelist/ [Done]\n",
            "Downloading https://www.gw-openscience.org/catalog/GWTC-1-confident/data/GW170814/H-H1_GWOSC_4KHZ_R1-1186741846-32.gwf [Done]\n",
            "Downloading https://www.gw-openscience.org/catalog/GWTC-1-confident/data/GW170814/L-L1_GWOSC_4KHZ_R1-1186741846-32.gwf [Done]\n",
            "Downloading https://www.gw-openscience.org/catalog/GWTC-1-confident/data/GW170814/V-V1_GWOSC_4KHZ_R1-1186741846-32.gwf [Done]\n"
          ],
          "name": "stdout"
        },
        {
          "output_type": "display_data",
          "data": {
            "image/png": "[encoded data removed]",
            "text/plain": [
              "<Figure size 720x360 with 1 Axes>"
            ]
          },
          "metadata": {
            "tags": []
          }
        }
      ]
    },
    {
      "cell_type": "code",
      "metadata": {
        "id": "P_rBvb94GtWx",
        "colab_type": "code",
        "colab": {}
      },
      "source": [
        "a =m.strain('H1')\n"
      ],
      "execution_count": 0,
      "outputs": []
    },
    {
      "cell_type": "markdown",
      "metadata": {
        "id": "mvvCftTMEqBq",
        "colab_type": "text"
      },
      "source": [
        "#### Generate our template waveform and calculate the Signal-to-noise time series ####\n",
        "\n",
        "To calculate the signal-to-noise time series, we need to generate an estimate of the signal. For this purpose we will assume the source black holes are non spinning, have equal mass, and they agree with the total mass estimate for the system as a whole. A better method would be to use the maximum likelihood estimate from an analysis of the LIGO data alone, however, this is sufficient for the purposes of this tutorial."
      ]
    },
    {
      "cell_type": "code",
      "metadata": {
        "id": "rTBMA6XZEqBq",
        "colab_type": "code",
        "colab": {
          "base_uri": "https://localhost:8080/",
          "height": 351
        },
        "outputId": "3e14604e-7244-41af-fc7d-d9349e8f88c7"
      },
      "source": [
        "from pycbc.waveform import get_fd_waveform\n",
        "from pycbc.filter import matched_filter\n",
        "\n",
        "# Calculate the component mass of each black hole in the detector frame\n",
        "cmass = m.median1d(\"mtotal\") / 2      # This is in the source frame\n",
        "cmass *= (1 + m.median1d(\"redshift\")) # apply redshift to get to the detector frame\n",
        "\n",
        "# This is a frequency domain waveform generator. It has a very similar syntax to the time domain\n",
        "# waveform function used in prior tutorials. This function returns both a plus and a cross\n",
        "# polarization waveform, but we will just use the plus polarization in building our template\n",
        "# as these are only different by a phase offset in this specific case.\n",
        "hp, _ = get_fd_waveform(approximant=\"IMRPhenomD\",\n",
        "                         mass1=cmass, mass2=cmass,\n",
        "                         f_lower=20.0, delta_f=data[ifo].delta_f)\n",
        "hp.resize(len(psd[ifo]))\n",
        "\n",
        "# For each observatory use this template to calculate the SNR time series\n",
        "snr = {}\n",
        "for ifo in ifos:\n",
        "    snr[ifo] = matched_filter(hp, data[ifo], psd=psd[ifo], low_frequency_cutoff=20)\n",
        "    snr[ifo] = snr[ifo].crop(5, 4)"
      ],
      "execution_count": 3,
      "outputs": [
        {
          "output_type": "error",
          "ename": "KeyError",
          "evalue": "ignored",
          "traceback": [
            "\u001b[0;31m---------------------------------------------------------------------------\u001b[0m",
            "\u001b[0;31mKeyError\u001b[0m                                  Traceback (most recent call last)",
            "\u001b[0;32m<ipython-input-3-50a7ec1d9238>\u001b[0m in \u001b[0;36m<module>\u001b[0;34m()\u001b[0m\n\u001b[1;32m      3\u001b[0m \u001b[0;34m\u001b[0m\u001b[0m\n\u001b[1;32m      4\u001b[0m \u001b[0;31m# Calculate the component mass of each black hole in the detector frame\u001b[0m\u001b[0;34m\u001b[0m\u001b[0;34m\u001b[0m\u001b[0;34m\u001b[0m\u001b[0m\n\u001b[0;32m----> 5\u001b[0;31m \u001b[0mcmass\u001b[0m \u001b[0;34m=\u001b[0m \u001b[0mm\u001b[0m\u001b[0;34m.\u001b[0m\u001b[0mmedian1d\u001b[0m\u001b[0;34m(\u001b[0m\u001b[0;34m\"mtotal\"\u001b[0m\u001b[0;34m)\u001b[0m \u001b[0;34m/\u001b[0m \u001b[0;36m2\u001b[0m      \u001b[0;31m# This is in the source frame\u001b[0m\u001b[0;34m\u001b[0m\u001b[0;34m\u001b[0m\u001b[0m\n\u001b[0m\u001b[1;32m      6\u001b[0m \u001b[0mcmass\u001b[0m \u001b[0;34m*=\u001b[0m \u001b[0;34m(\u001b[0m\u001b[0;36m1\u001b[0m \u001b[0;34m+\u001b[0m \u001b[0mm\u001b[0m\u001b[0;34m.\u001b[0m\u001b[0mmedian1d\u001b[0m\u001b[0;34m(\u001b[0m\u001b[0;34m\"redshift\"\u001b[0m\u001b[0;34m)\u001b[0m\u001b[0;34m)\u001b[0m \u001b[0;31m# apply redshift to get to the detector frame\u001b[0m\u001b[0;34m\u001b[0m\u001b[0;34m\u001b[0m\u001b[0m\n\u001b[1;32m      7\u001b[0m \u001b[0;34m\u001b[0m\u001b[0m\n",
            "\u001b[0;32m/usr/local/lib/python3.6/dist-packages/pycbc/catalog/__init__.py\u001b[0m in \u001b[0;36mmedian1d\u001b[0;34m(self, name, return_errors)\u001b[0m\n\u001b[1;32m     69\u001b[0m             \u001b[0;32mreturn\u001b[0m \u001b[0;34m(\u001b[0m\u001b[0mmid\u001b[0m\u001b[0;34m,\u001b[0m \u001b[0mlow\u001b[0m\u001b[0;34m,\u001b[0m \u001b[0mhigh\u001b[0m\u001b[0;34m)\u001b[0m\u001b[0;34m\u001b[0m\u001b[0;34m\u001b[0m\u001b[0m\n\u001b[1;32m     70\u001b[0m         \u001b[0;32melse\u001b[0m\u001b[0;34m:\u001b[0m\u001b[0;34m\u001b[0m\u001b[0;34m\u001b[0m\u001b[0m\n\u001b[0;32m---> 71\u001b[0;31m             \u001b[0;32mreturn\u001b[0m \u001b[0mself\u001b[0m\u001b[0;34m.\u001b[0m\u001b[0mdata\u001b[0m\u001b[0;34m[\u001b[0m\u001b[0mname\u001b[0m\u001b[0;34m]\u001b[0m\u001b[0;34m[\u001b[0m\u001b[0;34m'best'\u001b[0m\u001b[0;34m]\u001b[0m\u001b[0;34m\u001b[0m\u001b[0;34m\u001b[0m\u001b[0m\n\u001b[0m\u001b[1;32m     72\u001b[0m \u001b[0;34m\u001b[0m\u001b[0m\n\u001b[1;32m     73\u001b[0m     \u001b[0;32mdef\u001b[0m \u001b[0mstrain\u001b[0m\u001b[0;34m(\u001b[0m\u001b[0mself\u001b[0m\u001b[0;34m,\u001b[0m \u001b[0mifo\u001b[0m\u001b[0;34m,\u001b[0m \u001b[0mduration\u001b[0m\u001b[0;34m=\u001b[0m\u001b[0;36m32\u001b[0m\u001b[0;34m,\u001b[0m \u001b[0msample_rate\u001b[0m\u001b[0;34m=\u001b[0m\u001b[0;36m4096\u001b[0m\u001b[0;34m)\u001b[0m\u001b[0;34m:\u001b[0m\u001b[0;34m\u001b[0m\u001b[0;34m\u001b[0m\u001b[0m\n",
            "\u001b[0;31mKeyError\u001b[0m: 'mtotal'"
          ]
        }
      ]
    },
    {
      "cell_type": "code",
      "metadata": {
        "id": "rOZrI7JBEqBu",
        "colab_type": "code",
        "colab": {}
      },
      "source": [
        "# Show a couple sizes\n",
        "for w, title in [(10, 'Wide View'), (.15, 'Close to GW170814')]:\n",
        "    pylab.figure(figsize=[14, 4])\n",
        "    for ifo in ifos:\n",
        "        pylab.plot(snr[ifo].sample_times, abs(snr[ifo]), label=ifo)\n",
        "\n",
        "    pylab.legend()\n",
        "    pylab.title(title)\n",
        "    pylab.grid()\n",
        "    pylab.xlim(m.time - w, m.time + w)\n",
        "    pylab.ylim(0, 15)\n",
        "    pylab.xlabel('Time (s)')\n",
        "    pylab.ylabel('Signal-to-noise (SNR)')\n",
        "    pylab.show()"
      ],
      "execution_count": 0,
      "outputs": []
    },
    {
      "cell_type": "markdown",
      "metadata": {
        "id": "ekILdgkgEqBw",
        "colab_type": "text"
      },
      "source": [
        "We see in the SNR time series plots above, that while there are nice peaks around GW170814 in each detector, there are also some large peaks at other times. LIGO / Virgo data, does contain transient (i.e limited duration) noise artefacts that an analyses must deal with to search LIGO data with high sensitivity. One approach for dealing with this is outlined later in this tutorial."
      ]
    },
    {
      "cell_type": "markdown",
      "metadata": {
        "id": "Vvf_wuMAEqBx",
        "colab_type": "text"
      },
      "source": [
        "#### How well is the data actually fitting our model? ####\n",
        "\n",
        "One of the ways we can test how well the data actual fits the models to use a $\\chi^2$-based signal consistency test. We employ a version of the test described [in this paper](https://arxiv.org/pdf/gr-qc/0405045.pdf). Schematically, we chop up our template into $p$ number of bins and see how much each contributes to the SNR ($\\rho_i$). We can then calculate our statistic as the difference between the SNR in one bin, and the expected fraction of the total SNR ($\\rho$).\n",
        "\n",
        "$\n",
        "\\chi^2 = \\sum^p_{i=0} (\\rho_i - \\rho / p)^2\n",
        "$\n",
        "\n",
        "This will have $2p-2$ degrees of freedom as each SNR is *complex* representing both possible orthogonal phases the signal could have contributions from. There is also a constraint due to the fact that the sum of each bin must each the total SNR by definition. In this notebook we will normalize this statistic by dividing by the number of degrees of freedom, producing $\\chi^2_r$.\n",
        "\n",
        "We expect that this statistic will be high when the template does not match well the data, and near unity when the data either is Gaussian noise, or it contains the expected signal in addition to Gaussian noise."
      ]
    },
    {
      "cell_type": "code",
      "metadata": {
        "id": "J-t7mJnyEqBy",
        "colab_type": "code",
        "colab": {}
      },
      "source": [
        "# WARNING!! If you are having problems with this code, replace the import with\n",
        "#from pycbc_chisq import power_chisq\n",
        "from pycbc.vetoes import power_chisq\n",
        "\n",
        "chisq = {}\n",
        "for ifo in ifos:\n",
        "    # The number of bins to use. In principle, this choice is arbitrary. In practice,\n",
        "    # this is empirically tuned.\n",
        "    nbins = 26\n",
        "    chisq[ifo] = power_chisq(hp, data[ifo], nbins, psd[ifo], low_frequency_cutoff=20.0)\n",
        "    chisq[ifo] = chisq[ifo].crop(5, 4)\n",
        "    \n",
        "    dof = nbins * 2 - 2\n",
        "    chisq[ifo] /= dof"
      ],
      "execution_count": 0,
      "outputs": []
    },
    {
      "cell_type": "code",
      "metadata": {
        "scrolled": true,
        "id": "ccgZcVv7EqB0",
        "colab_type": "code",
        "colab": {}
      },
      "source": [
        "pylab.figure(figsize=[14, 4])\n",
        "\n",
        "for ifo in ifos:\n",
        "    pylab.plot(chisq[ifo].sample_times, chisq[ifo], label=ifo)\n",
        "    \n",
        "pylab.legend()\n",
        "pylab.grid()\n",
        "pylab.xlim(m.time -0.15, m.time + 0.15)\n",
        "pylab.ylim(0, 5)\n",
        "pylab.ylabel('$chi^2_r$')\n",
        "pylab.show()"
      ],
      "execution_count": 0,
      "outputs": []
    },
    {
      "cell_type": "markdown",
      "metadata": {
        "id": "aCKsReUkEqB2",
        "colab_type": "text"
      },
      "source": [
        "There are some notable features in the $\\chi^2_r$ time series. We see that there is a dip in the value at the time of the peak in the SNR in each observatory. We expect this as the template now aligns with the signal in the data. Also, the values climb just around this minima. This occurs because the template is starting to slide against the true signal in the data but is not perfectly aligned with it."
      ]
    },
    {
      "cell_type": "markdown",
      "metadata": {
        "id": "TCnjaUz3EqB3",
        "colab_type": "text"
      },
      "source": [
        "#### Re-weighting our SNR to help down-weight times that don't fit our signal ####\n",
        "\n",
        "One approach we can take is to down-weight the times where the data does not appear as either Guassian noise or Gaussian noise + our template. We can do this be combining the SNR time series and our $\\chi^2_r$ time series as follows. This is a method used to re-weight SNR since initial LIGO, and has been employed in the first two Advanced LIGO observing runs. In this tutorial we will choose to rank our events by this statistic. \n",
        "\n",
        "$\\hat{\\rho} = \\frac{\\rho}{ [1 + (\\chi^2_r)^3]^{1/6}}$ where $\\chi^2 > 1$, otherwise $\\rho$\n",
        "\n",
        "For reference on how we rank coincident (i.e. occuring in multiple detector) events in Advanced LIGO, there is a description [here](http://iopscience.iop.org/article/10.3847/1538-4357/aa8f50/pdf)."
      ]
    },
    {
      "cell_type": "code",
      "metadata": {
        "id": "YZwzdQ9aEqB3",
        "colab_type": "code",
        "colab": {}
      },
      "source": [
        "from pycbc.events import newsnr\n",
        "\n",
        "# The rho-hat term above is named \"newsnr\" here\n",
        "nsnr = {ifo:newsnr(abs(snr[ifo]), chisq[ifo]) for ifo in ifos}\n",
        "\n",
        "# Show a couple sizes\n",
        "for w, title in [(10, 'Wide View'), (.15, 'Close to GW170814')]:\n",
        "    pylab.figure(figsize=[14, 4])\n",
        "    for ifo in ifos:\n",
        "        pylab.plot(snr[ifo].sample_times, nsnr[ifo], label=ifo)\n",
        "\n",
        "    pylab.legend()\n",
        "    pylab.title(title)\n",
        "    pylab.grid()\n",
        "    pylab.xlim(m.time - w, m.time + w)\n",
        "    pylab.ylim(0, 15)\n",
        "    pylab.xlabel('Time (s)')\n",
        "    pylab.ylabel('Re-weighted Signal-to-noise')\n",
        "    pylab.show()"
      ],
      "execution_count": 0,
      "outputs": []
    },
    {
      "cell_type": "markdown",
      "metadata": {
        "id": "jW-1r8hjEqB6",
        "colab_type": "text"
      },
      "source": [
        "We can see above that there are still peaks around GW170814 in all detectors, at roughly the same signal strength, but that at other times, where that had been peaks in the time series, there are no longer large statistic values."
      ]
    },
    {
      "cell_type": "markdown",
      "metadata": {
        "id": "Apj-6zgzEqB6",
        "colab_type": "text"
      },
      "source": [
        "#### Calculating the background and significance ####\n",
        "\n",
        "In this section we will determine how significant the peak in the virgo re-weighted SNR time series is. \n",
        "\n",
        "We will do this first by determining where one might expect a peak relative to the LIGO observed peaks. This is set by the constraint that an astrophysical source can only cause delays between observatories no larger than the light travel time between them. The [`pycbc.detector.Detector`](http://pycbc.org/pycbc/latest/html/pycbc.html#pycbc.detector.Detector) class provides some convenient methods to ask these sorts of questions.\n",
        "\n",
        "We will then calculate the peak in the SNR for this window around the LIGO observed peaks. This is our \"on-source\". \n",
        "\n",
        "Finally, to determine the significance of the on-source we will compare how likely it is for a peak as large or larger to appear in the background. Our background will be empirically measured by taking portions of the SNR time series from the \"off-source\" i.e. times that do not overlap the on-source. An important criteria to avoid a biased significance estimate is that the background and experiment be performed in the same manner."
      ]
    },
    {
      "cell_type": "code",
      "metadata": {
        "scrolled": true,
        "id": "HOPwhE_pEqB7",
        "colab_type": "code",
        "colab": {}
      },
      "source": [
        "import numpy\n",
        "from pycbc.detector import Detector\n",
        "\n",
        "# Calculate the time of flight between the Virgo detectors and each LIGO observatory\n",
        "d = Detector(\"V1\")\n",
        "tof = {}\n",
        "tof['H1'] = d.light_travel_time_to_detector(Detector(\"H1\"))\n",
        "tof['L1'] = d.light_travel_time_to_detector(Detector(\"L1\"))\n",
        "\n",
        "# Record the time of the peak in the LIGO observatories\n",
        "ptime = {}\n",
        "\n",
        "pylab.figure(figsize=[14, 4])\n",
        "for ifo in ifos:\n",
        "    \n",
        "    # shade the region around each LIGO peak that could have a peak in Virgo if from\n",
        "    # an astrophysical source\n",
        "    if ifo is not 'V1':\n",
        "        ptime[ifo] = snr[ifo].sample_times[nsnr[ifo].argmax()]\n",
        "        pylab.axvspan(ptime[ifo] - tof[ifo], ptime[ifo] + tof[ifo], alpha=0.2, lw=10)\n",
        "        \n",
        "    pylab.plot(snr[ifo].sample_times, nsnr[ifo], label=ifo)\n",
        "\n",
        "# Calculate the span of time that a Virgo peak could in principle happen in from time of flight\n",
        "# considerations.\n",
        "start = ptime['H1'] - tof['H1']\n",
        "end = ptime['L1'] + tof['L1']\n",
        "\n",
        "# convert the times to indices along with how large the region is in number of samples\n",
        "window_size = int((end - start) * snr['V1'].sample_rate)\n",
        "sidx = int((start - snr['V1'].start_time) * snr['V1'].sample_rate)\n",
        "eidx = sidx + window_size\n",
        "\n",
        "# Calculate the \"on-source\" peak re-weighted (newsnr) statistic value.\n",
        "onsource = nsnr['V1'][sidx:eidx].max()\n",
        "\n",
        "pylab.legend()\n",
        "pylab.grid()\n",
        "pylab.xlim(m.time - .05, m.time + .05)\n",
        "pylab.ylim(0, 15)\n",
        "pylab.xlabel('Time (s)')\n",
        "pylab.ylabel('Re-weighted Signal-to-noise')\n",
        "pylab.show()\n",
        "\n",
        "print('Virgo Peak has a statistic value of {}'.format(onsource))"
      ],
      "execution_count": 0,
      "outputs": []
    },
    {
      "cell_type": "markdown",
      "metadata": {
        "id": "D3DDw8i-EqB9",
        "colab_type": "text"
      },
      "source": [
        "In the plot above we see the re-weighted SNR time series. On top of that we've shaded the regions which are consistent with a Virgo signal based on the peaks in the LIGO observatories. Only in the darker region, is it possible to have a peak in the SNR that is consistent with both LIGO observatories."
      ]
    },
    {
      "cell_type": "code",
      "metadata": {
        "id": "sAPHCIC1EqB-",
        "colab_type": "code",
        "colab": {}
      },
      "source": [
        "# Now that we've calculated the onsource peak, we should calculate the background peak values.\n",
        "# We do this by chopping up the time series into chunks that are the same size as our\n",
        "# onsource and repeating the same peak finding (max) procedure.\n",
        "\n",
        "# Walk through the data in chunks and calculate the peak statistic value in each.\n",
        "peaks = []\n",
        "i = 0\n",
        "while i + window_size < len(nsnr['V1']):\n",
        "    p = nsnr['V1'][i:i+window_size].max()\n",
        "    peaks.append(p)\n",
        "    i += window_size\n",
        "    \n",
        "    # Skip past the onsource time\n",
        "    if abs(i - sidx) < window_size:\n",
        "        i += window_size * 2\n",
        "    \n",
        "peaks = numpy.array(peaks)"
      ],
      "execution_count": 0,
      "outputs": []
    },
    {
      "cell_type": "code",
      "metadata": {
        "scrolled": false,
        "id": "80zQLFqQEqB_",
        "colab_type": "code",
        "colab": {}
      },
      "source": [
        "# The p-value is just the number of samples observed in the background with a \n",
        "# value equal or higher than the onsource divided by the number of samples.\n",
        "# We can make the mapping between statistic value and p-value using our background\n",
        "# samples.\n",
        "pcurve = numpy.arange(1, len(peaks)+1)[::-1] / float(len(peaks))\n",
        "peaks.sort()\n",
        "\n",
        "pvalue = (peaks > onsource).sum() / float(len(peaks))\n",
        "\n",
        "pylab.figure(figsize=[10, 7])\n",
        "pylab.scatter(peaks, pcurve, label='Off-source (Noise Background)', color='black')\n",
        "\n",
        "pylab.axvline(onsource, label='On-source', color='red')\n",
        "pylab.axhline(pvalue, color='red')\n",
        "\n",
        "pylab.legend()\n",
        "pylab.yscale('log')\n",
        "pylab.grid()\n",
        "pylab.ylim(1e-3, 1e0)\n",
        "pylab.ylabel('p-value')\n",
        "pylab.xlabel('Re-weighted Signal-to-noise')\n",
        "\n",
        "pylab.xlim(2, 5)\n",
        "pylab.show()\n",
        "\n",
        "print(\"The p-value associated with the GW170814 peak is {}\".format(pvalue))"
      ],
      "execution_count": 0,
      "outputs": []
    },
    {
      "cell_type": "markdown",
      "metadata": {
        "id": "--Tq5caPEqCC",
        "colab_type": "text"
      },
      "source": [
        "In this tutorial, we find a peak in Virgo as large as the obseved one has an approximately 0.5% chance of occuring due to the noise alone. Since that is a relatively low probability, we may reject the null hypothesis that the observed peak is due to noise alone. Given the simplifications of this tutorial, we find a result in agreement with the [GW170814 discovery paper](https://arxiv.org/pdf/1709.09660.pdf) which reported a p-value of 0.3%."
      ]
    }
  ]
}