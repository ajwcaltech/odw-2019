{
  "nbformat": 4,
  "nbformat_minor": 0,
  "metadata": {
    "kernelspec": {
      "name": "python3",
      "display_name": "Python 3"
    },
    "colab": {
      "name": "Tuto_2.1_Matched_filtering_introduction.ipynb",
      "provenance": []
    }
  },
  "cells": [
    {
      "cell_type": "markdown",
      "metadata": {
        "id": "vs-RMNR-9xk0",
        "colab_type": "text"
      },
      "source": [
        "<img style=\"float: left;padding: 1.3em\" src=\"https://indico.in2p3.fr/event/18313/logo-786578160.png\">  \n",
        "\n",
        "#  Gravitational Wave Open Data Workshop #2\n",
        "\n",
        "\n",
        "## Tutorial 2.1 PyCBC Tutorial, An introduction to matched-filtering\n",
        "\n",
        "We will be using the [PyCBC](http://github.com/ligo-cbc/pycbc) library, which is used to study gravitational-wave data, find astrophysical sources due to compact binary mergers, and study their parameters. These are some of the same tools that the LIGO and Virgo collaborations use to find gravitational waves in LIGO/Virgo data \n",
        "\n",
        "In this tutorial we will walk through how find a specific signal in LIGO data. We present matched filtering in PyCBC, which is optimal in the case of Gaussian noise and a known signal model. In reality our noise is not entirely Gaussian, and in practice we use a variety of techniques to separate signals from noise in addition to the use of the matched filter. \n",
        "\n",
        "[Click this link to view this tutorial in Google Colaboratory](https://colab.research.google.com/github/gw-odw/odw-2019/blob/master/Day_2/Tuto_2.1_Matched_filtering_introduction.ipynb)\n",
        "\n",
        "Additional [examples](http://pycbc.org/pycbc/latest/html/#library-examples-and-interactive-tutorials) and module level documentation are [here](http://pycbc.org/pycbc/latest/html/py-modindex.html)"
      ]
    },
    {
      "cell_type": "markdown",
      "metadata": {
        "id": "XufRn4Ss9xk3",
        "colab_type": "text"
      },
      "source": [
        "## Installation (execute only if running on a cloud platform!)"
      ]
    },
    {
      "cell_type": "code",
      "metadata": {
        "id": "vKlR6ux_9xk3",
        "colab_type": "code",
        "colab": {
          "base_uri": "https://localhost:8080/",
          "height": 1000
        },
        "outputId": "e6586f45-f7ec-4482-8964-7c24fc810735"
      },
      "source": [
        "import sys\n",
        "# !curl --silent --output requirements.txt https://raw.githubusercontent.com/gw-odw/odw-2019/master/requirements.txt\n",
        "# !{sys.executable} -m pip install -q -r requirements.txt\n",
        "!{sys.executable} -m pip install astropy healpy gwpy gwosc lalsuite ligo-common pycbc bilby  --no-cache-dir\n",
        "print(\"Python version = \",sys.version)\n",
        "! pip show numpy scipy astropy healpy gwpy gwosc lalsuite ligo-common pycbc bilby\n"
      ],
      "execution_count": 1,
      "outputs": [
        {
          "output_type": "stream",
          "text": [
            "Requirement already satisfied: astropy in /usr/local/lib/python3.6/dist-packages (3.0.5)\n",
            "Collecting healpy\n",
            "\u001b[?25l  Downloading https://files.pythonhosted.org/packages/30/18/04e88aff3d4cc6818465c0e397f8e87fb51403f65afc5c119f90c4932ba3/healpy-1.13.0-cp36-cp36m-manylinux1_x86_64.whl (11.8MB)\n",
            "\u001b[K     |████████████████████████████████| 11.8MB 2.7MB/s \n",
            "\u001b[?25hCollecting gwpy\n",
            "\u001b[?25l  Downloading https://files.pythonhosted.org/packages/f0/33/6c78801e1f6f55932321e1de80f9fe6ba006298cc3e03978a88859286e6f/gwpy-1.0.1-py2.py3-none-any.whl (1.4MB)\n",
            "\u001b[K     |████████████████████████████████| 1.4MB 52.0MB/s \n",
            "\u001b[?25hCollecting gwosc\n",
            "  Downloading https://files.pythonhosted.org/packages/6d/ff/67426ce11f9f3432e020f5d5ef796e1d8e1c2a76b555c8705177f4347f99/gwosc-0.4.3-py2.py3-none-any.whl\n",
            "Collecting lalsuite\n",
            "\u001b[?25l  Downloading https://files.pythonhosted.org/packages/ad/b9/9f4363ddda7455816fe0592a08220e9496032b689ed070a0162ca09a7e54/lalsuite-6.65-cp36-cp36m-manylinux2010_x86_64.whl (28.5MB)\n",
            "\u001b[K     |████████████████████████████████| 28.5MB 1.2MB/s \n",
            "\u001b[?25hCollecting ligo-common\n",
            "  Downloading https://files.pythonhosted.org/packages/a6/9c/1fbe176feea9abad5c0f3fa090dcffccf44bbcba0f0c754b03d8fea1a36e/ligo_common-1.0.3-py2.py3-none-any.whl\n",
            "Collecting pycbc\n",
            "\u001b[?25l  Downloading https://files.pythonhosted.org/packages/4f/69/a62938cb5f3e143bcf44edbfa1bcca023578caa04b741bf4c5f6d9bd7fd6/PyCBC-1.15.3.tar.gz (3.1MB)\n",
            "\u001b[K     |████████████████████████████████| 3.1MB 65.6MB/s \n",
            "\u001b[?25h  Installing build dependencies ... \u001b[?25l\u001b[?25hdone\n",
            "  Getting requirements to build wheel ... \u001b[?25l\u001b[?25hdone\n",
            "    Preparing wheel metadata ... \u001b[?25l\u001b[?25hdone\n",
            "Collecting bilby\n",
            "\u001b[?25l  Downloading https://files.pythonhosted.org/packages/6d/34/b3eb6fe074775cdded846aa0e5e0d3e9c02fc234d02549a0e2a5523f19cf/bilby-0.6.3.tar.gz (1.5MB)\n",
            "\u001b[K     |████████████████████████████████| 1.5MB 48.7MB/s \n",
            "\u001b[?25hRequirement already satisfied: numpy>=1.10.0 in /usr/local/lib/python3.6/dist-packages (from astropy) (1.17.4)\n",
            "Requirement already satisfied: six in /usr/local/lib/python3.6/dist-packages (from healpy) (1.12.0)\n",
            "Requirement already satisfied: matplotlib in /usr/local/lib/python3.6/dist-packages (from healpy) (3.1.2)\n",
            "Requirement already satisfied: scipy in /usr/local/lib/python3.6/dist-packages (from healpy) (1.3.3)\n",
            "Collecting gwdatafind\n",
            "  Downloading https://files.pythonhosted.org/packages/d6/9e/616124723b7a8f2a5399f9288b056bb31f37222b0b7cae46f6bafaa42154/gwdatafind-1.0.4-py2.py3-none-any.whl\n",
            "Requirement already satisfied: tqdm>=4.10.0 in /usr/local/lib/python3.6/dist-packages (from gwpy) (4.28.1)\n",
            "Collecting ligo-segments>=1.0.0\n",
            "\u001b[?25l  Downloading https://files.pythonhosted.org/packages/62/cd/225e331e95cf6aff8ba13bf9a8053b29248a5e71f7fa9bbb1f0db1eaadff/ligo-segments-1.2.0.tar.gz (48kB)\n",
            "\u001b[K     |████████████████████████████████| 51kB 42.5MB/s \n",
            "\u001b[?25hCollecting dqsegdb2\n",
            "  Downloading https://files.pythonhosted.org/packages/5d/97/355617233a3b4a25966b35a536379d23345e9783db009248a199a48e60dd/dqsegdb2-1.0.1-py2.py3-none-any.whl\n",
            "Requirement already satisfied: python-dateutil in /usr/local/lib/python3.6/dist-packages (from gwpy) (2.6.1)\n",
            "Collecting ligotimegps>=1.2.1\n",
            "  Downloading https://files.pythonhosted.org/packages/69/b6/6d6d0585fa2ae936a9f5d411b1f0fbe9fcb0aca0c51a775aa4f8f95fdf5e/ligotimegps-2.0.1-py2.py3-none-any.whl\n",
            "Requirement already satisfied: h5py>=1.3 in /usr/local/lib/python3.6/dist-packages (from gwpy) (2.8.0)\n",
            "Collecting lscsoft-glue\n",
            "\u001b[?25l  Downloading https://files.pythonhosted.org/packages/3b/65/e93853bc1876516db8d58f4590dba1d6b85eaf9d1bd375926ac7897e525a/lscsoft-glue-2.0.0.tar.gz (1.6MB)\n",
            "\u001b[K     |████████████████████████████████| 1.6MB 47.3MB/s \n",
            "\u001b[?25hRequirement already satisfied: pillow in /usr/local/lib/python3.6/dist-packages (from pycbc) (4.3.0)\n",
            "Requirement already satisfied: decorator>=3.4.2 in /usr/local/lib/python3.6/dist-packages (from pycbc) (4.4.1)\n",
            "Requirement already satisfied: jinja2 in /usr/local/lib/python3.6/dist-packages (from pycbc) (2.10.3)\n",
            "Collecting mpld3>=0.3\n",
            "\u001b[?25l  Downloading https://files.pythonhosted.org/packages/91/95/a52d3a83d0a29ba0d6898f6727e9858fe7a43f6c2ce81a5fe7e05f0f4912/mpld3-0.3.tar.gz (788kB)\n",
            "\u001b[K     |████████████████████████████████| 798kB 58.6MB/s \n",
            "\u001b[?25hRequirement already satisfied: cython>=0.29 in /usr/local/lib/python3.6/dist-packages (from pycbc) (0.29.14)\n",
            "Collecting Mako>=1.0.1\n",
            "\u001b[?25l  Downloading https://files.pythonhosted.org/packages/b0/3c/8dcd6883d009f7cae0f3157fb53e9afb05a0d3d33b3db1268ec2e6f4a56b/Mako-1.1.0.tar.gz (463kB)\n",
            "\u001b[K     |████████████████████████████████| 471kB 60.4MB/s \n",
            "\u001b[?25hRequirement already satisfied: requests>=1.2.1 in /usr/local/lib/python3.6/dist-packages (from pycbc) (2.21.0)\n",
            "Requirement already satisfied: beautifulsoup4>=4.6.0 in /usr/local/lib/python3.6/dist-packages (from pycbc) (4.6.3)\n",
            "Collecting emcee==2.2.1\n",
            "  Downloading https://files.pythonhosted.org/packages/3f/d3/7635106605dedccd08705beac53be4c43a8da1caad6be667adbf93ed0965/emcee-2.2.1.tar.gz\n",
            "Requirement already satisfied: future in /usr/local/lib/python3.6/dist-packages (from bilby) (0.16.0)\n",
            "Collecting dynesty>=1.0.0\n",
            "\u001b[?25l  Downloading https://files.pythonhosted.org/packages/78/2d/7bb5f7e6eb7e67f5dbf276cfd98cbc93b78da79cefeb5c9cfc92cee20deb/dynesty-1.0.0-py2.py3-none-any.whl (84kB)\n",
            "\u001b[K     |████████████████████████████████| 92kB 65.3MB/s \n",
            "\u001b[?25hCollecting corner\n",
            "  Downloading https://files.pythonhosted.org/packages/65/af/a7ba022f2d5787f51db91b5550cbe8e8c40a6eebd8f15119e743a09a9c19/corner-2.0.1.tar.gz\n",
            "Requirement already satisfied: dill in /usr/local/lib/python3.6/dist-packages (from bilby) (0.3.1.1)\n",
            "Requirement already satisfied: pandas in /usr/local/lib/python3.6/dist-packages (from bilby) (0.25.3)\n",
            "Requirement already satisfied: cycler>=0.10 in /usr/local/lib/python3.6/dist-packages (from matplotlib->healpy) (0.10.0)\n",
            "Requirement already satisfied: pyparsing!=2.0.4,!=2.1.2,!=2.1.6,>=2.0.1 in /usr/local/lib/python3.6/dist-packages (from matplotlib->healpy) (2.4.5)\n",
            "Requirement already satisfied: kiwisolver>=1.0.1 in /usr/local/lib/python3.6/dist-packages (from matplotlib->healpy) (1.1.0)\n",
            "Collecting pyOpenSSL\n",
            "\u001b[?25l  Downloading https://files.pythonhosted.org/packages/9e/de/f8342b68fa9e981d348039954657bdf681b2ab93de27443be51865ffa310/pyOpenSSL-19.1.0-py2.py3-none-any.whl (53kB)\n",
            "\u001b[K     |████████████████████████████████| 61kB 55.6MB/s \n",
            "\u001b[?25hRequirement already satisfied: olefile in /usr/local/lib/python3.6/dist-packages (from pillow->pycbc) (0.46)\n",
            "Requirement already satisfied: MarkupSafe>=0.23 in /usr/local/lib/python3.6/dist-packages (from jinja2->pycbc) (1.1.1)\n",
            "Requirement already satisfied: chardet<3.1.0,>=3.0.2 in /usr/local/lib/python3.6/dist-packages (from requests>=1.2.1->pycbc) (3.0.4)\n",
            "Requirement already satisfied: certifi>=2017.4.17 in /usr/local/lib/python3.6/dist-packages (from requests>=1.2.1->pycbc) (2019.11.28)\n",
            "Requirement already satisfied: urllib3<1.25,>=1.21.1 in /usr/local/lib/python3.6/dist-packages (from requests>=1.2.1->pycbc) (1.24.3)\n",
            "Requirement already satisfied: idna<2.9,>=2.5 in /usr/local/lib/python3.6/dist-packages (from requests>=1.2.1->pycbc) (2.8)\n",
            "Requirement already satisfied: pytz>=2017.2 in /usr/local/lib/python3.6/dist-packages (from pandas->bilby) (2018.9)\n",
            "Requirement already satisfied: setuptools in /usr/local/lib/python3.6/dist-packages (from kiwisolver>=1.0.1->matplotlib->healpy) (42.0.2)\n",
            "Collecting cryptography>=2.8\n",
            "\u001b[?25l  Downloading https://files.pythonhosted.org/packages/ca/9a/7cece52c46546e214e10811b36b2da52ce1ea7fa203203a629b8dfadad53/cryptography-2.8-cp34-abi3-manylinux2010_x86_64.whl (2.3MB)\n",
            "\u001b[K     |████████████████████████████████| 2.3MB 49.4MB/s \n",
            "\u001b[?25hRequirement already satisfied: cffi!=1.11.3,>=1.8 in /usr/local/lib/python3.6/dist-packages (from cryptography>=2.8->pyOpenSSL->gwdatafind->gwpy) (1.13.2)\n",
            "Requirement already satisfied: pycparser in /usr/local/lib/python3.6/dist-packages (from cffi!=1.11.3,>=1.8->cryptography>=2.8->pyOpenSSL->gwdatafind->gwpy) (2.19)\n",
            "Building wheels for collected packages: pycbc\n",
            "  Building wheel for pycbc (PEP 517) ... \u001b[?25l\u001b[?25hdone\n",
            "  Created wheel for pycbc: filename=PyCBC-1.15.3-cp36-cp36m-linux_x86_64.whl size=5591140 sha256=a1ceb72d4b357a21398cc81451f3168fb2b71ac8527ba0fde2b97cf3dfd62f21\n",
            "  Stored in directory: /tmp/pip-ephem-wheel-cache-yjyq5ld_/wheels/ed/93/51/aafc6d597c7e358296c1700a6b567235fd92060f040780d0dd\n",
            "Successfully built pycbc\n",
            "Building wheels for collected packages: bilby, ligo-segments, lscsoft-glue, mpld3, Mako, emcee, corner\n",
            "  Building wheel for bilby (setup.py) ... \u001b[?25l\u001b[?25hdone\n",
            "  Created wheel for bilby: filename=bilby-0.6.3-cp36-none-any.whl size=1563687 sha256=d466159c15727555e2b95fcc94dbde57cde67874e3ae32563ac0697ac3ba1115\n",
            "  Stored in directory: /tmp/pip-ephem-wheel-cache-yjyq5ld_/wheels/5d/7b/d6/a3ae90f4f15b68619cd2dbafcf9f0da48c69314663a7e6d7a3\n",
            "  Building wheel for ligo-segments (setup.py) ... \u001b[?25l\u001b[?25hdone\n",
            "  Created wheel for ligo-segments: filename=ligo_segments-1.2.0-cp36-cp36m-linux_x86_64.whl size=83620 sha256=f80b8cf93aac11df8bdca0a7fd556dce371516041c6813edf44d53e7c486a730\n",
            "  Stored in directory: /tmp/pip-ephem-wheel-cache-yjyq5ld_/wheels/5d/1e/4a/ab4122baed7d67f6abce65b2b12049d3bc7fe5dad24edf89df\n",
            "  Building wheel for lscsoft-glue (setup.py) ... \u001b[?25l\u001b[?25hdone\n",
            "  Created wheel for lscsoft-glue: filename=lscsoft_glue-2.0.0-cp36-cp36m-linux_x86_64.whl size=414162 sha256=60dcc2a3f6ff64c6e5c47790a8eb26614d65bbdc784a4a2b1ffc9409998b14e4\n",
            "  Stored in directory: /tmp/pip-ephem-wheel-cache-yjyq5ld_/wheels/aa/fa/38/d61b002c627ca54f03755b9a288f4b1fa83291608a4bc47b7b\n",
            "  Building wheel for mpld3 (setup.py) ... \u001b[?25l\u001b[?25hdone\n",
            "  Created wheel for mpld3: filename=mpld3-0.3-cp36-none-any.whl size=116679 sha256=0b9e2833005ed8112026141f9c9734879a1ef3047c5b6ec2d75109e3c28e65eb\n",
            "  Stored in directory: /tmp/pip-ephem-wheel-cache-yjyq5ld_/wheels/c0/47/fb/8a64f89aecfe0059830479308ad42d62e898a3e3cefdf6ba28\n",
            "  Building wheel for Mako (setup.py) ... \u001b[?25l\u001b[?25hdone\n",
            "  Created wheel for Mako: filename=Mako-1.1.0-cp36-none-any.whl size=75363 sha256=7723f82b4393e46a1d449aa8d26eb0ba0fe6fd7ad8eff410914094edf2682f3c\n",
            "  Stored in directory: /tmp/pip-ephem-wheel-cache-yjyq5ld_/wheels/98/32/7b/a291926643fc1d1e02593e0d9e247c5a866a366b8343b7aa27\n",
            "  Building wheel for emcee (setup.py) ... \u001b[?25l\u001b[?25hdone\n",
            "  Created wheel for emcee: filename=emcee-2.2.1-cp36-none-any.whl size=29596 sha256=3686d6ad1d6e47a6c37b9f1d17adc4e45ea99e7d491b9841dc0810adb6f4ef51\n",
            "  Stored in directory: /tmp/pip-ephem-wheel-cache-yjyq5ld_/wheels/2f/5d/a5/78f84e23329ad7d9b1787c9d24371100cae74cdefe25eba50d\n",
            "  Building wheel for corner (setup.py) ... \u001b[?25l\u001b[?25hdone\n",
            "  Created wheel for corner: filename=corner-2.0.1-cp36-none-any.whl size=11643 sha256=cd5b157d6ea82644fc5dbedc3ed863c27592517071b56a3511412ff330054f34\n",
            "  Stored in directory: /tmp/pip-ephem-wheel-cache-yjyq5ld_/wheels/70/d8/e5/e0e7974a2a5757483ea5a180c937041cf6872dc9993d78234a\n",
            "Successfully built bilby ligo-segments lscsoft-glue mpld3 Mako emcee corner\n",
            "Installing collected packages: healpy, ligo-segments, cryptography, pyOpenSSL, gwdatafind, dqsegdb2, gwosc, ligotimegps, gwpy, lscsoft-glue, lalsuite, ligo-common, mpld3, Mako, emcee, pycbc, dynesty, corner, bilby\n",
            "Successfully installed Mako-1.1.0 bilby-0.6.3 corner-2.0.1 cryptography-2.8 dqsegdb2-1.0.1 dynesty-1.0.0 emcee-2.2.1 gwdatafind-1.0.4 gwosc-0.4.3 gwpy-1.0.1 healpy-1.13.0 lalsuite-6.65 ligo-common-1.0.3 ligo-segments-1.2.0 ligotimegps-2.0.1 lscsoft-glue-2.0.0 mpld3-0.3 pyOpenSSL-19.1.0 pycbc-1.15.3\n",
            "Python version =  3.6.9 (default, Nov  7 2019, 10:44:02) \n",
            "[GCC 8.3.0]\n",
            "Name: numpy\n",
            "Version: 1.17.4\n",
            "Summary: NumPy is the fundamental package for array computing with Python.\n",
            "Home-page: https://www.numpy.org\n",
            "Author: Travis E. Oliphant et al.\n",
            "Author-email: None\n",
            "License: BSD\n",
            "Location: /usr/local/lib/python3.6/dist-packages\n",
            "Requires: \n",
            "Required-by: yellowbrick, xgboost, xarray, wordcloud, umap-learn, torchvision, torchtext, torch, thinc, Theano, tflearn, tensorflow, tensorflow-probability, tensorflow-hub, tensorflow-datasets, tensorboard, tensor2tensor, tables, statsmodels, stable-baselines, spacy, sklearn-pandas, seaborn, scs, scipy, scikit-learn, resampy, PyWavelets, pystan, pysndfile, pymc3, pyemd, PyCBC, pyarrow, pretty-midi, plotnine, patsy, pandas, osqp, opt-einsum, opencv-python, opencv-contrib-python, numexpr, numba, np-utils, nibabel, moviepy, mlxtend, mizani, missingno, mir-eval, matplotlib, matplotlib-venn, magenta, lucid, lscsoft-glue, lightgbm, librosa, lalsuite, knnimpute, kfac, Keras, Keras-Preprocessing, Keras-Applications, kapre, jpeg4py, jaxlib, jax, imgaug, imbalanced-learn, imageio, hyperopt, healpy, h5py, gym, gwpy, graph-nets, gensim, folium, fix-yahoo-finance, featuretools, fbprophet, fastdtw, fastai, fancyimpute, fa2, emcee, ecos, dynesty, daft, cvxpy, cufflinks, corner, chainer, Bottleneck, bokeh, blis, bilby, autograd, atari-py, astropy, altair, albumentations\n",
            "---\n",
            "Name: scipy\n",
            "Version: 1.3.3\n",
            "Summary: SciPy: Scientific Library for Python\n",
            "Home-page: https://www.scipy.org\n",
            "Author: None\n",
            "Author-email: None\n",
            "License: BSD\n",
            "Location: /usr/local/lib/python3.6/dist-packages\n",
            "Requires: numpy\n",
            "Required-by: yellowbrick, xgboost, umap-learn, Theano, tensorflow-privacy, tensor2tensor, statsmodels, stable-baselines, sklearn-pandas, seaborn, scs, scikit-learn, scikit-image, resampy, pymc3, PyCBC, plotnine, osqp, mlxtend, missingno, mir-eval, matplotlib-venn, magenta, lucid, lightgbm, librosa, lalsuite, Keras, jaxlib, imgaug, imbalanced-learn, hyperopt, healpy, gym, gwpy, gensim, fastai, fancyimpute, fa2, ecos, dynesty, cvxpy, bilby, albumentations\n",
            "---\n",
            "Name: astropy\n",
            "Version: 3.0.5\n",
            "Summary: Community-developed python astronomy tools\n",
            "Home-page: http://astropy.org\n",
            "Author: The Astropy Developers\n",
            "Author-email: astropy.team@gmail.com\n",
            "License: BSD\n",
            "Location: /usr/local/lib/python3.6/dist-packages\n",
            "Requires: numpy\n",
            "Required-by: PyCBC, healpy, gwpy\n",
            "---\n",
            "Name: healpy\n",
            "Version: 1.13.0\n",
            "Summary: Healpix tools package for Python\n",
            "Home-page: http://github.com/healpy\n",
            "Author: C. Rosset, A. Zonca\n",
            "Author-email: cyrille.rosset@apc.univ-paris-diderot.fr\n",
            "License: GPLv2\n",
            "Location: /usr/local/lib/python3.6/dist-packages\n",
            "Requires: six, matplotlib, scipy, numpy, astropy\n",
            "Required-by: \n",
            "---\n",
            "Name: gwpy\n",
            "Version: 1.0.1\n",
            "Summary: A python package for gravitational-wave astrophysics\n",
            "Home-page: https://gwpy.github.io\n",
            "Author: Duncan Macleod\n",
            "Author-email: duncan.macleod@ligo.org\n",
            "License: GPL-3.0-or-later\n",
            "Location: /usr/local/lib/python3.6/dist-packages\n",
            "Requires: ligo-segments, ligotimegps, matplotlib, scipy, numpy, dqsegdb2, tqdm, astropy, six, python-dateutil, gwosc, h5py, gwdatafind\n",
            "Required-by: \n",
            "---\n",
            "Name: gwosc\n",
            "Version: 0.4.3\n",
            "Summary: A python interface to the GW Open Science data archive\n",
            "Home-page: https://github.com/gwpy/gwosc\n",
            "Author: Duncan Macleod\n",
            "Author-email: duncan.macleod@ligo.org\n",
            "License: MIT\n",
            "Location: /usr/local/lib/python3.6/dist-packages\n",
            "Requires: six\n",
            "Required-by: gwpy\n",
            "---\n",
            "Name: lalsuite\n",
            "Version: 6.65\n",
            "Summary: LIGO Scientific Collaboration Algorithm Library - minimal Python package\n",
            "Home-page: https://git.ligo.org/lscsoft/lalsuite\n",
            "Author: LIGO Scientific Collaboration\n",
            "Author-email: lal-discuss@ligo.org\n",
            "License: GPL-2+\n",
            "Location: /usr/local/lib/python3.6/dist-packages\n",
            "Requires: lscsoft-glue, matplotlib, ligo-segments, numpy, scipy, python-dateutil\n",
            "Required-by: \n",
            "---\n",
            "Name: ligo-common\n",
            "Version: 1.0.3\n",
            "Summary: Empty LIGO modules\n",
            "Home-page: UNKNOWN\n",
            "Author: None\n",
            "Author-email: None\n",
            "License: GPLv3\n",
            "Location: /usr/local/lib/python3.6/dist-packages\n",
            "Requires: \n",
            "Required-by: \n",
            "---\n",
            "Name: PyCBC\n",
            "Version: 1.15.3\n",
            "Summary: Core library to analyze gravitational-wave data, find signals, and study their parameters.\n",
            "Home-page: http://www.pycbc.org/\n",
            "Author: The PyCBC team\n",
            "Author-email: alex.nitz@gmail.org\n",
            "License: UNKNOWN\n",
            "Location: /usr/local/lib/python3.6/dist-packages\n",
            "Requires: beautifulsoup4, ligo-segments, requests, astropy, scipy, numpy, matplotlib, cython, jinja2, h5py, six, tqdm, numpy, Mako, mpld3, pillow, decorator, emcee, lscsoft-glue\n",
            "Required-by: \n",
            "---\n",
            "Name: bilby\n",
            "Version: 0.6.3\n",
            "Summary: A user-friendly Bayesian inference library\n",
            "Home-page: https://git.ligo.org/lscsoft/bilby\n",
            "Author: Greg Ashton, Moritz Huebner, Paul Lasky, Colm Talbot\n",
            "Author-email: paul.lasky@monash.edu\n",
            "License: MIT\n",
            "Location: /usr/local/lib/python3.6/dist-packages\n",
            "Requires: dill, matplotlib, corner, emcee, numpy, scipy, dynesty, tqdm, future, pandas\n",
            "Required-by: \n"
          ],
          "name": "stdout"
        }
      ]
    },
    {
      "cell_type": "markdown",
      "metadata": {
        "id": "rYhxszTf9xlH",
        "colab_type": "text"
      },
      "source": [
        "**Important:** With Google Colab, you may need to restart the runtime after running the cell above."
      ]
    },
    {
      "cell_type": "markdown",
      "metadata": {
        "id": "QjGOvqxS9xlH",
        "colab_type": "text"
      },
      "source": [
        "### Matched-filtering: Finding well modelled signals in Gaussian noise\n",
        "\n",
        "Matched filtering can be shown to be the optimal method for \"detecting\" signals---where the signal is known---in Gaussian noise. We'll explore those assumptions a little later, but for now let's demonstrate how this works.\n",
        "\n",
        "Let's assume you have a stretch of noise, white noise to start:"
      ]
    },
    {
      "cell_type": "code",
      "metadata": {
        "id": "_qmMsUjZ9xlI",
        "colab_type": "code",
        "colab": {}
      },
      "source": [
        "%matplotlib inline\n",
        "import numpy\n",
        "import pylab\n",
        "\n",
        "sample_rate = 1024 # samples per second\n",
        "data_length = 1024 # seconds\n",
        "\n",
        "# Generate a long stretch of white noise\n",
        "data = numpy.random.normal(size=[sample_rate * data_length])\n",
        "times = numpy.arange(len(data)) / float(sample_rate)"
      ],
      "execution_count": 0,
      "outputs": []
    },
    {
      "cell_type": "markdown",
      "metadata": {
        "id": "55mifE2l9xlN",
        "colab_type": "text"
      },
      "source": [
        "And then let's add a gravitational wave signal to some random part of this data."
      ]
    },
    {
      "cell_type": "code",
      "metadata": {
        "id": "Pn8spZsn9xlO",
        "colab_type": "code",
        "colab": {
          "base_uri": "https://localhost:8080/",
          "height": 868
        },
        "outputId": "a03aef2e-d4d2-4a74-956b-3c3ba9a18180"
      },
      "source": [
        "from pycbc.waveform import get_td_waveform\n",
        "\n",
        "apx = 'IMRPhenomD'\n",
        "\n",
        "hp1, _ = get_td_waveform(approximant=apx,\n",
        "                         mass1=10,\n",
        "                         mass2=10,\n",
        "                         delta_t=1.0/sample_rate,\n",
        "                         f_lower=25)\n",
        "\n",
        "# The amplitude of gravitational-wave signals is normally of order 1E-20. To demonstrate our method\n",
        "# on white noise with amplitude O(1) we normalize our signal so the cross-correlation of the signal with\n",
        "# itself will give a value of 1. In this case we can interpret the cross-correlation of the signal with white\n",
        "# noise as a signal-to-noise ratio.\n",
        "\n",
        "hp1 = hp1 / max(numpy.correlate(hp1,hp1, mode='full'))**0.5\n",
        "\n",
        "pylab.figure()\n",
        "pylab.title(\"The waveform hp1\")\n",
        "pylab.plot(hp1.sample_times, hp1)\n",
        "pylab.xlabel('Time (s)')\n",
        "pylab.ylabel('Normalized amplitude')\n",
        "\n",
        "waveform_start = numpy.random.randint(0, len(data) - len(hp1))\n",
        "data[waveform_start:waveform_start+len(hp1)] += 10 * hp1.numpy()\n",
        "\n",
        "pylab.figure()\n",
        "pylab.title(\"Looks like random noise, right?\")\n",
        "pylab.plot(hp1.sample_times, data[waveform_start:waveform_start+len(hp1)])\n",
        "pylab.xlabel('Time (s)')\n",
        "pylab.ylabel('Normalized amplitude')\n",
        "\n",
        "pylab.figure()\n",
        "pylab.title(\"Signal in the data\")\n",
        "pylab.plot(hp1.sample_times, data[waveform_start:waveform_start+len(hp1)])\n",
        "pylab.plot(hp1.sample_times, 10 * hp1)\n",
        "pylab.xlabel('Time (s)')\n",
        "pylab.ylabel('Normalized amplitude')\n",
        "\n",
        "\n"
      ],
      "execution_count": 3,
      "outputs": [
        {
          "output_type": "execute_result",
          "data": {
            "text/plain": [
              "Text(0, 0.5, 'Normalized amplitude')"
            ]
          },
          "metadata": {
            "tags": []
          },
          "execution_count": 3
        },
        {
          "output_type": "display_data",
          "data": {
            "image/png": "[encoded data removed]",
            "text/plain": [
              "<Figure size 432x288 with 1 Axes>"
            ]
          },
          "metadata": {
            "tags": []
          }
        },
        {
          "output_type": "display_data",
          "data": {
            "image/png": "[encoded data removed]",
            "text/plain": [
              "<Figure size 432x288 with 1 Axes>"
            ]
          },
          "metadata": {
            "tags": []
          }
        },
        {
          "output_type": "display_data",
          "data": {
            "image/png": "[encoded data removed]",
            "text/plain": [
              "<Figure size 432x288 with 1 Axes>"
            ]
          },
          "metadata": {
            "tags": []
          }
        }
      ]
    },
    {
      "cell_type": "markdown",
      "metadata": {
        "id": "Zl2MOig89xlU",
        "colab_type": "text"
      },
      "source": [
        "To search for this signal we can cross-correlate the signal with the entire dataset -> Not in any way optimized at this point, just showing the method"
      ]
    },
    {
      "cell_type": "code",
      "metadata": {
        "id": "AaXNIDbv9xlV",
        "colab_type": "code",
        "colab": {
          "base_uri": "https://localhost:8080/",
          "height": 296
        },
        "outputId": "d6b16781-ed6b-4c2a-8c69-317931f8da72"
      },
      "source": [
        "cross_correlation = numpy.zeros([len(data)-len(hp1)])\n",
        "hp1_numpy = hp1.numpy()\n",
        "for i in range(len(data) - len(hp1_numpy)):\n",
        "    cross_correlation[i] = (hp1_numpy * data[i:i+len(hp1_numpy)]).sum()\n",
        "\n",
        "pylab.figure()\n",
        "times = numpy.arange(len(data) - len(hp1_numpy)) / float(sample_rate)\n",
        "pylab.plot(times, cross_correlation)\n",
        "pylab.plot([waveform_start/float(sample_rate), waveform_start/float(sample_rate)], [-10,10],'r:')\n",
        "pylab.xlabel('Time (s)')\n",
        "pylab.ylabel('Cross-correlation')\n",
        "\n"
      ],
      "execution_count": 4,
      "outputs": [
        {
          "output_type": "execute_result",
          "data": {
            "text/plain": [
              "Text(0, 0.5, 'Cross-correlation')"
            ]
          },
          "metadata": {
            "tags": []
          },
          "execution_count": 4
        },
        {
          "output_type": "display_data",
          "data": {
            "image/png": "[encoded data removed]",
            "text/plain": [
              "<Figure size 432x288 with 1 Axes>"
            ]
          },
          "metadata": {
            "tags": []
          }
        }
      ]
    },
    {
      "cell_type": "markdown",
      "metadata": {
        "id": "cZiB0QoC9xlX",
        "colab_type": "text"
      },
      "source": [
        "Here you can see that the largest spike from the cross-correlation comes at the time of the signal. We only really need one more ingredient to describe matched-filtering: Colored noise. Let's repeat the process, but generate a stretch of data colored with LIGO's zero-detuned--high-power noise curve. We'll use a PyCBC library to do this."
      ]
    },
    {
      "cell_type": "code",
      "metadata": {
        "id": "wJuTdC-e9xlX",
        "colab_type": "code",
        "colab": {}
      },
      "source": [
        "# http://pycbc.org/pycbc/latest/html/noise.html\n",
        "import pycbc.noise\n",
        "import pycbc.psd\n",
        "\n",
        "# The color of the noise matches a PSD which you provide:\n",
        "# Generate a PSD matching Advanced LIGO's zero-detuned--high-power noise curve \n",
        "flow = 10.0\n",
        "delta_f = 1.0 / 128\n",
        "flen = int(sample_rate / (2 * delta_f)) + 1\n",
        "psd = pycbc.psd.aLIGOZeroDetHighPower(flen, delta_f, flow)\n",
        "\n",
        "# Generate colored noise\n",
        "delta_t = 1.0 / sample_rate\n",
        "ts = pycbc.noise.noise_from_psd(data_length*sample_rate, delta_t, psd, seed=127)\n",
        "ts[waveform_start:waveform_start+len(hp1)] += hp1.numpy() * 1E-20\n",
        "\n"
      ],
      "execution_count": 0,
      "outputs": []
    },
    {
      "cell_type": "markdown",
      "metadata": {
        "id": "-aJ9X2Kz9xll",
        "colab_type": "text"
      },
      "source": [
        "Then all we need to do is to \"whiten\" both the data, and the template waveform. This can be done, in the frequency domain, by dividing by the PSD. This *can* be done in the time domain as well, but it's more intuitive in the frequency domain"
      ]
    },
    {
      "cell_type": "code",
      "metadata": {
        "id": "3PJcsQtL9xlo",
        "colab_type": "code",
        "colab": {}
      },
      "source": [
        "# Generate a PSD for whitening the data\n",
        "from pycbc.types import TimeSeries\n",
        "flow = 10.0\n",
        "delta_f = 1.0 / data_length\n",
        "flen = int(sample_rate / (2 * delta_f)) + 1\n",
        "psd_td = pycbc.psd.aLIGOZeroDetHighPower(flen, delta_f, 0)\n",
        "delta_f = sample_rate / float(len(hp1))\n",
        "flen = int(sample_rate / (2 * delta_f)) + 1\n",
        "psd_hp1 = pycbc.psd.aLIGOZeroDetHighPower(flen, delta_f, 0)\n",
        "\n",
        "# Set 0th and Nth value to avoid inf\n",
        "psd_td[0] = psd_td[1]\n",
        "psd_td[len(psd_td) - 1] = psd_td[len(psd_td) - 2]\n",
        "\n",
        "psd_hp1[0] = psd_hp1[1]\n",
        "psd_hp1[len(psd_hp1) - 1] = psd_hp1[len(psd_hp1) - 2]\n",
        "\n",
        "data_whitened = (ts.to_frequencyseries() / psd_td**0.5).to_timeseries()\n",
        "hp1_whitened = (hp1.to_frequencyseries() / psd_hp1**0.5).to_timeseries() * 1E-21\n"
      ],
      "execution_count": 0,
      "outputs": []
    },
    {
      "cell_type": "code",
      "metadata": {
        "id": "gQHLMZcy9xmU",
        "colab_type": "code",
        "colab": {
          "base_uri": "https://localhost:8080/",
          "height": 296
        },
        "outputId": "d2cd0814-91aa-40b5-8f9d-6e4a94a3fb69"
      },
      "source": [
        "cross_correlation = numpy.zeros([len(data)-len(hp1)])\n",
        "hp1n = hp1_whitened.numpy()\n",
        "datan = data_whitened.numpy()\n",
        "for i in range(len(datan) - len(hp1n)):\n",
        "    cross_correlation[i] = (hp1n * datan[i:i+len(hp1n)]).sum()\n",
        "\n",
        "pylab.figure()\n",
        "times = numpy.arange(len(datan) - len(hp1n)) / float(sample_rate)\n",
        "pylab.plot(times, cross_correlation)\n",
        "pylab.plot([waveform_start/float(sample_rate), waveform_start/float(sample_rate)],\n",
        "           [(min(cross_correlation))*1.1,(max(cross_correlation))*1.1],'r:')\n",
        "pylab.xlabel('Time (s)')\n",
        "pylab.ylabel('Cross-correlation')\n",
        "\n"
      ],
      "execution_count": 7,
      "outputs": [
        {
          "output_type": "execute_result",
          "data": {
            "text/plain": [
              "Text(0, 0.5, 'Cross-correlation')"
            ]
          },
          "metadata": {
            "tags": []
          },
          "execution_count": 7
        },
        {
          "output_type": "display_data",
          "data": {
            "image/png": "[encoded data removed]",
            "text/plain": [
              "<Figure size 432x288 with 1 Axes>"
            ]
          },
          "metadata": {
            "tags": []
          }
        }
      ]
    },
    {
      "cell_type": "markdown",
      "metadata": {
        "id": "lfO8MpWM9xml",
        "colab_type": "text"
      },
      "source": [
        "### Optimizing a matched-filter\n",
        "\n",
        "That's all that a matched-filter is. A cross-correlation of the data with a template waveform performed as a function of time. This cross-correlation walking through the data is a convolution operation. Convolution operations are more optimally performed in the frequency domain, which becomes a `O(N ln N)` operation, as opposed to the `O(N^2)` operation shown here. You can also conveniently vary the phase of the signal in the frequency domain, as we will illustrate in the next tutorial. PyCBC implements a frequency-domain matched-filtering engine, which is much faster than the code we've shown here. Let's move to the next tutorial now, where we will demonstrate its use on real data."
      ]
    },
    {
      "cell_type": "code",
      "metadata": {
        "id": "EPZf_Hna9xml",
        "colab_type": "code",
        "colab": {}
      },
      "source": [
        ""
      ],
      "execution_count": 0,
      "outputs": []
    },
    {
      "cell_type": "code",
      "metadata": {
        "id": "jRG5oEp69xmn",
        "colab_type": "code",
        "colab": {}
      },
      "source": [
        ""
      ],
      "execution_count": 0,
      "outputs": []
    }
  ]
}