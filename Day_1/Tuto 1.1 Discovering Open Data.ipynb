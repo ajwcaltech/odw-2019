{
  "nbformat": 4,
  "nbformat_minor": 0,
  "metadata": {
    "kernelspec": {
      "display_name": "Python 3",
      "language": "python",
      "name": "python3"
    },
    "language_info": {
      "codemirror_mode": {
        "name": "ipython",
        "version": 3
      },
      "file_extension": ".py",
      "mimetype": "text/x-python",
      "name": "python",
      "nbconvert_exporter": "python",
      "pygments_lexer": "ipython3",
      "version": "3.5.3"
    },
    "colab": {
      "name": "Tuto 1.1 Discovering Open Data.ipynb",
      "provenance": []
    }
  },
  "cells": [
    {
      "cell_type": "markdown",
      "metadata": {
        "id": "hCc3nKw6tq7Y",
        "colab_type": "text"
      },
      "source": [
        "<img style=\"float: left;padding: 1.3em\" src=\"https://indico.in2p3.fr/event/18313/logo-786578160.png\">  \n",
        "\n",
        "#  Gravitational Wave Open Data Workshop #2\n",
        "\n",
        "\n",
        "#### Tutorial 1.1: Discovering open data from GW observatories\n",
        "\n",
        "This notebook describes how to discover what data are available from the [Gravitational-Wave Open Science Center (GWOSC)](https://www.gw-openscience.org).\n",
        "    \n",
        "[Click this link to view this tutorial in Google Colaboratory](https://colab.research.google.com/github/gw-odw/odw-2019/blob/master/Day_1/Tuto 1.1 Discovering Open Data.ipynb)"
      ]
    },
    {
      "cell_type": "markdown",
      "metadata": {
        "id": "8AuBEMkutq7b",
        "colab_type": "text"
      },
      "source": [
        "## Software installation  (execute only if running on a cloud platform or haven't done the installation yet!)\n",
        "\n",
        "First, we need to install the software, which we do so using the `requirements.txt` file provided for this workshop:"
      ]
    },
    {
      "cell_type": "code",
      "metadata": {
        "id": "TqOPNp91tq7c",
        "colab_type": "code",
        "colab": {
          "base_uri": "https://localhost:8080/",
          "height": 1000
        },
        "outputId": "75c48013-417b-43d3-c16f-2990699f8dcc"
      },
      "source": [
        "import sys\n",
        "# !curl --silent --output requirements.txt https://raw.githubusercontent.com/gw-odw/odw-2019/master/requirements.txt\n",
        "# !{sys.executable} -m pip install -q -r requirements.txt\n",
        "!{sys.executable} -m pip install astropy healpy gwpy gwosc lalsuite ligo-common pycbc bilby  --no-cache-dir\n",
        "print(\"Python version = \",sys.version)\n",
        "! pip show numpy scipy astropy healpy gwpy gwosc lalsuite ligo-common pycbc bilby\n"
      ],
      "execution_count": 1,
      "outputs": [
        {
          "output_type": "stream",
          "text": [
            "Requirement already satisfied: astropy in /usr/local/lib/python3.6/dist-packages (3.0.5)\n",
            "Collecting healpy\n",
            "\u001b[?25l  Downloading https://files.pythonhosted.org/packages/30/18/04e88aff3d4cc6818465c0e397f8e87fb51403f65afc5c119f90c4932ba3/healpy-1.13.0-cp36-cp36m-manylinux1_x86_64.whl (11.8MB)\n",
            "\u001b[K     |████████████████████████████████| 11.8MB 2.4MB/s \n",
            "\u001b[?25hCollecting gwpy\n",
            "\u001b[?25l  Downloading https://files.pythonhosted.org/packages/f0/33/6c78801e1f6f55932321e1de80f9fe6ba006298cc3e03978a88859286e6f/gwpy-1.0.1-py2.py3-none-any.whl (1.4MB)\n",
            "\u001b[K     |████████████████████████████████| 1.4MB 41.6MB/s \n",
            "\u001b[?25hCollecting gwosc\n",
            "  Downloading https://files.pythonhosted.org/packages/6d/ff/67426ce11f9f3432e020f5d5ef796e1d8e1c2a76b555c8705177f4347f99/gwosc-0.4.3-py2.py3-none-any.whl\n",
            "Collecting lalsuite\n",
            "\u001b[?25l  Downloading https://files.pythonhosted.org/packages/ad/b9/9f4363ddda7455816fe0592a08220e9496032b689ed070a0162ca09a7e54/lalsuite-6.65-cp36-cp36m-manylinux2010_x86_64.whl (28.5MB)\n",
            "\u001b[K     |████████████████████████████████| 28.5MB 48.7MB/s \n",
            "\u001b[?25hCollecting ligo-common\n",
            "  Downloading https://files.pythonhosted.org/packages/a6/9c/1fbe176feea9abad5c0f3fa090dcffccf44bbcba0f0c754b03d8fea1a36e/ligo_common-1.0.3-py2.py3-none-any.whl\n",
            "Collecting pycbc\n",
            "\u001b[?25l  Downloading https://files.pythonhosted.org/packages/4f/69/a62938cb5f3e143bcf44edbfa1bcca023578caa04b741bf4c5f6d9bd7fd6/PyCBC-1.15.3.tar.gz (3.1MB)\n",
            "\u001b[K     |████████████████████████████████| 3.1MB 43.8MB/s \n",
            "\u001b[?25h  Installing build dependencies ... \u001b[?25l\u001b[?25hdone\n",
            "  Getting requirements to build wheel ... \u001b[?25l\u001b[?25hdone\n",
            "    Preparing wheel metadata ... \u001b[?25l\u001b[?25hdone\n",
            "Collecting bilby\n",
            "\u001b[?25l  Downloading https://files.pythonhosted.org/packages/6d/34/b3eb6fe074775cdded846aa0e5e0d3e9c02fc234d02549a0e2a5523f19cf/bilby-0.6.3.tar.gz (1.5MB)\n",
            "\u001b[K     |████████████████████████████████| 1.5MB 32.3MB/s \n",
            "\u001b[?25hRequirement already satisfied: numpy>=1.10.0 in /usr/local/lib/python3.6/dist-packages (from astropy) (1.17.4)\n",
            "Requirement already satisfied: six in /usr/local/lib/python3.6/dist-packages (from healpy) (1.12.0)\n",
            "Requirement already satisfied: matplotlib in /usr/local/lib/python3.6/dist-packages (from healpy) (3.1.2)\n",
            "Requirement already satisfied: scipy in /usr/local/lib/python3.6/dist-packages (from healpy) (1.3.3)\n",
            "Requirement already satisfied: h5py>=1.3 in /usr/local/lib/python3.6/dist-packages (from gwpy) (2.8.0)\n",
            "Requirement already satisfied: tqdm>=4.10.0 in /usr/local/lib/python3.6/dist-packages (from gwpy) (4.28.1)\n",
            "Collecting ligotimegps>=1.2.1\n",
            "  Downloading https://files.pythonhosted.org/packages/69/b6/6d6d0585fa2ae936a9f5d411b1f0fbe9fcb0aca0c51a775aa4f8f95fdf5e/ligotimegps-2.0.1-py2.py3-none-any.whl\n",
            "Collecting gwdatafind\n",
            "  Downloading https://files.pythonhosted.org/packages/d6/9e/616124723b7a8f2a5399f9288b056bb31f37222b0b7cae46f6bafaa42154/gwdatafind-1.0.4-py2.py3-none-any.whl\n",
            "Collecting ligo-segments>=1.0.0\n",
            "\u001b[?25l  Downloading https://files.pythonhosted.org/packages/62/cd/225e331e95cf6aff8ba13bf9a8053b29248a5e71f7fa9bbb1f0db1eaadff/ligo-segments-1.2.0.tar.gz (48kB)\n",
            "\u001b[K     |████████████████████████████████| 51kB 45.2MB/s \n",
            "\u001b[?25hCollecting dqsegdb2\n",
            "  Downloading https://files.pythonhosted.org/packages/5d/97/355617233a3b4a25966b35a536379d23345e9783db009248a199a48e60dd/dqsegdb2-1.0.1-py2.py3-none-any.whl\n",
            "Requirement already satisfied: python-dateutil in /usr/local/lib/python3.6/dist-packages (from gwpy) (2.6.1)\n",
            "Collecting lscsoft-glue\n",
            "\u001b[?25l  Downloading https://files.pythonhosted.org/packages/3b/65/e93853bc1876516db8d58f4590dba1d6b85eaf9d1bd375926ac7897e525a/lscsoft-glue-2.0.0.tar.gz (1.6MB)\n",
            "\u001b[K     |████████████████████████████████| 1.6MB 52.2MB/s \n",
            "\u001b[?25hCollecting Mako>=1.0.1\n",
            "\u001b[?25l  Downloading https://files.pythonhosted.org/packages/b0/3c/8dcd6883d009f7cae0f3157fb53e9afb05a0d3d33b3db1268ec2e6f4a56b/Mako-1.1.0.tar.gz (463kB)\n",
            "\u001b[K     |████████████████████████████████| 471kB 55.3MB/s \n",
            "\u001b[?25hRequirement already satisfied: jinja2 in /usr/local/lib/python3.6/dist-packages (from pycbc) (2.10.3)\n",
            "Requirement already satisfied: decorator>=3.4.2 in /usr/local/lib/python3.6/dist-packages (from pycbc) (4.4.1)\n",
            "Collecting mpld3>=0.3\n",
            "\u001b[?25l  Downloading https://files.pythonhosted.org/packages/91/95/a52d3a83d0a29ba0d6898f6727e9858fe7a43f6c2ce81a5fe7e05f0f4912/mpld3-0.3.tar.gz (788kB)\n",
            "\u001b[K     |████████████████████████████████| 798kB 63.8MB/s \n",
            "\u001b[?25hRequirement already satisfied: beautifulsoup4>=4.6.0 in /usr/local/lib/python3.6/dist-packages (from pycbc) (4.6.3)\n",
            "Requirement already satisfied: pillow in /usr/local/lib/python3.6/dist-packages (from pycbc) (4.3.0)\n",
            "Collecting emcee==2.2.1\n",
            "  Downloading https://files.pythonhosted.org/packages/3f/d3/7635106605dedccd08705beac53be4c43a8da1caad6be667adbf93ed0965/emcee-2.2.1.tar.gz\n",
            "Requirement already satisfied: requests>=1.2.1 in /usr/local/lib/python3.6/dist-packages (from pycbc) (2.21.0)\n",
            "Requirement already satisfied: cython>=0.29 in /usr/local/lib/python3.6/dist-packages (from pycbc) (0.29.14)\n",
            "Requirement already satisfied: future in /usr/local/lib/python3.6/dist-packages (from bilby) (0.16.0)\n",
            "Collecting dynesty>=1.0.0\n",
            "\u001b[?25l  Downloading https://files.pythonhosted.org/packages/78/2d/7bb5f7e6eb7e67f5dbf276cfd98cbc93b78da79cefeb5c9cfc92cee20deb/dynesty-1.0.0-py2.py3-none-any.whl (84kB)\n",
            "\u001b[K     |████████████████████████████████| 92kB 57.4MB/s \n",
            "\u001b[?25hCollecting corner\n",
            "  Downloading https://files.pythonhosted.org/packages/65/af/a7ba022f2d5787f51db91b5550cbe8e8c40a6eebd8f15119e743a09a9c19/corner-2.0.1.tar.gz\n",
            "Requirement already satisfied: dill in /usr/local/lib/python3.6/dist-packages (from bilby) (0.3.1.1)\n",
            "Requirement already satisfied: pandas in /usr/local/lib/python3.6/dist-packages (from bilby) (0.25.3)\n",
            "Requirement already satisfied: cycler>=0.10 in /usr/local/lib/python3.6/dist-packages (from matplotlib->healpy) (0.10.0)\n",
            "Requirement already satisfied: kiwisolver>=1.0.1 in /usr/local/lib/python3.6/dist-packages (from matplotlib->healpy) (1.1.0)\n",
            "Requirement already satisfied: pyparsing!=2.0.4,!=2.1.2,!=2.1.6,>=2.0.1 in /usr/local/lib/python3.6/dist-packages (from matplotlib->healpy) (2.4.5)\n",
            "Collecting pyOpenSSL\n",
            "\u001b[?25l  Downloading https://files.pythonhosted.org/packages/9e/de/f8342b68fa9e981d348039954657bdf681b2ab93de27443be51865ffa310/pyOpenSSL-19.1.0-py2.py3-none-any.whl (53kB)\n",
            "\u001b[K     |████████████████████████████████| 61kB 50.3MB/s \n",
            "\u001b[?25hRequirement already satisfied: MarkupSafe>=0.9.2 in /usr/local/lib/python3.6/dist-packages (from Mako>=1.0.1->pycbc) (1.1.1)\n",
            "Requirement already satisfied: olefile in /usr/local/lib/python3.6/dist-packages (from pillow->pycbc) (0.46)\n",
            "Requirement already satisfied: idna<2.9,>=2.5 in /usr/local/lib/python3.6/dist-packages (from requests>=1.2.1->pycbc) (2.8)\n",
            "Requirement already satisfied: urllib3<1.25,>=1.21.1 in /usr/local/lib/python3.6/dist-packages (from requests>=1.2.1->pycbc) (1.24.3)\n",
            "Requirement already satisfied: certifi>=2017.4.17 in /usr/local/lib/python3.6/dist-packages (from requests>=1.2.1->pycbc) (2019.11.28)\n",
            "Requirement already satisfied: chardet<3.1.0,>=3.0.2 in /usr/local/lib/python3.6/dist-packages (from requests>=1.2.1->pycbc) (3.0.4)\n",
            "Requirement already satisfied: pytz>=2017.2 in /usr/local/lib/python3.6/dist-packages (from pandas->bilby) (2018.9)\n",
            "Requirement already satisfied: setuptools in /usr/local/lib/python3.6/dist-packages (from kiwisolver>=1.0.1->matplotlib->healpy) (42.0.2)\n",
            "Collecting cryptography>=2.8\n",
            "\u001b[?25l  Downloading https://files.pythonhosted.org/packages/ca/9a/7cece52c46546e214e10811b36b2da52ce1ea7fa203203a629b8dfadad53/cryptography-2.8-cp34-abi3-manylinux2010_x86_64.whl (2.3MB)\n",
            "\u001b[K     |████████████████████████████████| 2.3MB 41.8MB/s \n",
            "\u001b[?25hRequirement already satisfied: cffi!=1.11.3,>=1.8 in /usr/local/lib/python3.6/dist-packages (from cryptography>=2.8->pyOpenSSL->gwdatafind->gwpy) (1.13.2)\n",
            "Requirement already satisfied: pycparser in /usr/local/lib/python3.6/dist-packages (from cffi!=1.11.3,>=1.8->cryptography>=2.8->pyOpenSSL->gwdatafind->gwpy) (2.19)\n",
            "Building wheels for collected packages: pycbc\n",
            "  Building wheel for pycbc (PEP 517) ... \u001b[?25l\u001b[?25hdone\n",
            "  Created wheel for pycbc: filename=PyCBC-1.15.3-cp36-cp36m-linux_x86_64.whl size=5591031 sha256=43f2bc5bb17ae126f4be219900dd51a49401f9033e59b550961d684ca4ed3f10\n",
            "  Stored in directory: /tmp/pip-ephem-wheel-cache-cabgat2s/wheels/ed/93/51/aafc6d597c7e358296c1700a6b567235fd92060f040780d0dd\n",
            "Successfully built pycbc\n",
            "Building wheels for collected packages: bilby, ligo-segments, lscsoft-glue, Mako, mpld3, emcee, corner\n",
            "  Building wheel for bilby (setup.py) ... \u001b[?25l\u001b[?25hdone\n",
            "  Created wheel for bilby: filename=bilby-0.6.3-cp36-none-any.whl size=1563687 sha256=0686acaa8ee8799867eac9674fcbef3d3dbfa9158cab6ad9fc4d0b6d92152031\n",
            "  Stored in directory: /tmp/pip-ephem-wheel-cache-cabgat2s/wheels/5d/7b/d6/a3ae90f4f15b68619cd2dbafcf9f0da48c69314663a7e6d7a3\n",
            "  Building wheel for ligo-segments (setup.py) ... \u001b[?25l\u001b[?25hdone\n",
            "  Created wheel for ligo-segments: filename=ligo_segments-1.2.0-cp36-cp36m-linux_x86_64.whl size=83620 sha256=6bc9bcad48a808c19dbe72d260ba9c615e3f5da175f15e1983602e1785f5b6d3\n",
            "  Stored in directory: /tmp/pip-ephem-wheel-cache-cabgat2s/wheels/5d/1e/4a/ab4122baed7d67f6abce65b2b12049d3bc7fe5dad24edf89df\n",
            "  Building wheel for lscsoft-glue (setup.py) ... \u001b[?25l\u001b[?25hdone\n",
            "  Created wheel for lscsoft-glue: filename=lscsoft_glue-2.0.0-cp36-cp36m-linux_x86_64.whl size=414165 sha256=4551a227ec340926719039ff08a5a2827a47390204e3a8485dcd194abf5f46b5\n",
            "  Stored in directory: /tmp/pip-ephem-wheel-cache-cabgat2s/wheels/aa/fa/38/d61b002c627ca54f03755b9a288f4b1fa83291608a4bc47b7b\n",
            "  Building wheel for Mako (setup.py) ... \u001b[?25l\u001b[?25hdone\n",
            "  Created wheel for Mako: filename=Mako-1.1.0-cp36-none-any.whl size=75363 sha256=4aa926be0a1dac22cf6ca59867446193fdc3e9b20317729cea5e9b77f9b07d90\n",
            "  Stored in directory: /tmp/pip-ephem-wheel-cache-cabgat2s/wheels/98/32/7b/a291926643fc1d1e02593e0d9e247c5a866a366b8343b7aa27\n",
            "  Building wheel for mpld3 (setup.py) ... \u001b[?25l\u001b[?25hdone\n",
            "  Created wheel for mpld3: filename=mpld3-0.3-cp36-none-any.whl size=116679 sha256=754fffb23ae4f5c920c45d6d1f596c07477252dd6f15ec0539c51ca6ffc4c59d\n",
            "  Stored in directory: /tmp/pip-ephem-wheel-cache-cabgat2s/wheels/c0/47/fb/8a64f89aecfe0059830479308ad42d62e898a3e3cefdf6ba28\n",
            "  Building wheel for emcee (setup.py) ... \u001b[?25l\u001b[?25hdone\n",
            "  Created wheel for emcee: filename=emcee-2.2.1-cp36-none-any.whl size=29596 sha256=8d5e8ddaa877a64b52d682ea0f74a411127e5caf0c4cc97fd0434ff0b73b0747\n",
            "  Stored in directory: /tmp/pip-ephem-wheel-cache-cabgat2s/wheels/2f/5d/a5/78f84e23329ad7d9b1787c9d24371100cae74cdefe25eba50d\n",
            "  Building wheel for corner (setup.py) ... \u001b[?25l\u001b[?25hdone\n",
            "  Created wheel for corner: filename=corner-2.0.1-cp36-none-any.whl size=11643 sha256=016a599b6420df0aff2dadfb3a9b0d642b843e07d1ab715117f30f443c477ce5\n",
            "  Stored in directory: /tmp/pip-ephem-wheel-cache-cabgat2s/wheels/70/d8/e5/e0e7974a2a5757483ea5a180c937041cf6872dc9993d78234a\n",
            "Successfully built bilby ligo-segments lscsoft-glue Mako mpld3 emcee corner\n",
            "Installing collected packages: healpy, ligotimegps, ligo-segments, cryptography, pyOpenSSL, gwdatafind, gwosc, dqsegdb2, gwpy, lscsoft-glue, lalsuite, ligo-common, Mako, mpld3, emcee, pycbc, dynesty, corner, bilby\n",
            "Successfully installed Mako-1.1.0 bilby-0.6.3 corner-2.0.1 cryptography-2.8 dqsegdb2-1.0.1 dynesty-1.0.0 emcee-2.2.1 gwdatafind-1.0.4 gwosc-0.4.3 gwpy-1.0.1 healpy-1.13.0 lalsuite-6.65 ligo-common-1.0.3 ligo-segments-1.2.0 ligotimegps-2.0.1 lscsoft-glue-2.0.0 mpld3-0.3 pyOpenSSL-19.1.0 pycbc-1.15.3\n",
            "Python version =  3.6.9 (default, Nov  7 2019, 10:44:02) \n",
            "[GCC 8.3.0]\n",
            "Name: numpy\n",
            "Version: 1.17.4\n",
            "Summary: NumPy is the fundamental package for array computing with Python.\n",
            "Home-page: https://www.numpy.org\n",
            "Author: Travis E. Oliphant et al.\n",
            "Author-email: None\n",
            "License: BSD\n",
            "Location: /usr/local/lib/python3.6/dist-packages\n",
            "Requires: \n",
            "Required-by: yellowbrick, xgboost, xarray, wordcloud, umap-learn, torchvision, torchtext, torch, thinc, Theano, tflearn, tensorflow, tensorflow-probability, tensorflow-hub, tensorflow-datasets, tensorboard, tensor2tensor, tables, statsmodels, stable-baselines, spacy, sklearn-pandas, seaborn, scs, scipy, scikit-learn, resampy, PyWavelets, pystan, pysndfile, pymc3, pyemd, PyCBC, pyarrow, pretty-midi, plotnine, patsy, pandas, osqp, opt-einsum, opencv-python, opencv-contrib-python, numexpr, numba, np-utils, nibabel, moviepy, mlxtend, mizani, missingno, mir-eval, matplotlib, matplotlib-venn, magenta, lucid, lscsoft-glue, lightgbm, librosa, lalsuite, knnimpute, kfac, Keras, Keras-Preprocessing, Keras-Applications, kapre, jpeg4py, jaxlib, jax, imgaug, imbalanced-learn, imageio, hyperopt, healpy, h5py, gym, gwpy, graph-nets, gensim, folium, fix-yahoo-finance, featuretools, fbprophet, fastdtw, fastai, fancyimpute, fa2, emcee, ecos, dynesty, daft, cvxpy, cufflinks, corner, chainer, Bottleneck, bokeh, blis, bilby, autograd, atari-py, astropy, altair, albumentations\n",
            "---\n",
            "Name: scipy\n",
            "Version: 1.3.3\n",
            "Summary: SciPy: Scientific Library for Python\n",
            "Home-page: https://www.scipy.org\n",
            "Author: None\n",
            "Author-email: None\n",
            "License: BSD\n",
            "Location: /usr/local/lib/python3.6/dist-packages\n",
            "Requires: numpy\n",
            "Required-by: yellowbrick, xgboost, umap-learn, Theano, tensorflow-privacy, tensor2tensor, statsmodels, stable-baselines, sklearn-pandas, seaborn, scs, scikit-learn, scikit-image, resampy, pymc3, PyCBC, plotnine, osqp, mlxtend, missingno, mir-eval, matplotlib-venn, magenta, lucid, lightgbm, librosa, lalsuite, Keras, jaxlib, imgaug, imbalanced-learn, hyperopt, healpy, gym, gwpy, gensim, fastai, fancyimpute, fa2, ecos, dynesty, cvxpy, bilby, albumentations\n",
            "---\n",
            "Name: astropy\n",
            "Version: 3.0.5\n",
            "Summary: Community-developed python astronomy tools\n",
            "Home-page: http://astropy.org\n",
            "Author: The Astropy Developers\n",
            "Author-email: astropy.team@gmail.com\n",
            "License: BSD\n",
            "Location: /usr/local/lib/python3.6/dist-packages\n",
            "Requires: numpy\n",
            "Required-by: PyCBC, healpy, gwpy\n",
            "---\n",
            "Name: healpy\n",
            "Version: 1.13.0\n",
            "Summary: Healpix tools package for Python\n",
            "Home-page: http://github.com/healpy\n",
            "Author: C. Rosset, A. Zonca\n",
            "Author-email: cyrille.rosset@apc.univ-paris-diderot.fr\n",
            "License: GPLv2\n",
            "Location: /usr/local/lib/python3.6/dist-packages\n",
            "Requires: six, numpy, matplotlib, astropy, scipy\n",
            "Required-by: \n",
            "---\n",
            "Name: gwpy\n",
            "Version: 1.0.1\n",
            "Summary: A python package for gravitational-wave astrophysics\n",
            "Home-page: https://gwpy.github.io\n",
            "Author: Duncan Macleod\n",
            "Author-email: duncan.macleod@ligo.org\n",
            "License: GPL-3.0-or-later\n",
            "Location: /usr/local/lib/python3.6/dist-packages\n",
            "Requires: ligotimegps, astropy, six, tqdm, ligo-segments, python-dateutil, scipy, h5py, dqsegdb2, matplotlib, numpy, gwosc, gwdatafind\n",
            "Required-by: \n",
            "---\n",
            "Name: gwosc\n",
            "Version: 0.4.3\n",
            "Summary: A python interface to the GW Open Science data archive\n",
            "Home-page: https://github.com/gwpy/gwosc\n",
            "Author: Duncan Macleod\n",
            "Author-email: duncan.macleod@ligo.org\n",
            "License: MIT\n",
            "Location: /usr/local/lib/python3.6/dist-packages\n",
            "Requires: six\n",
            "Required-by: gwpy\n",
            "---\n",
            "Name: lalsuite\n",
            "Version: 6.65\n",
            "Summary: LIGO Scientific Collaboration Algorithm Library - minimal Python package\n",
            "Home-page: https://git.ligo.org/lscsoft/lalsuite\n",
            "Author: LIGO Scientific Collaboration\n",
            "Author-email: lal-discuss@ligo.org\n",
            "License: GPL-2+\n",
            "Location: /usr/local/lib/python3.6/dist-packages\n",
            "Requires: matplotlib, python-dateutil, ligo-segments, scipy, numpy, lscsoft-glue\n",
            "Required-by: \n",
            "---\n",
            "Name: ligo-common\n",
            "Version: 1.0.3\n",
            "Summary: Empty LIGO modules\n",
            "Home-page: UNKNOWN\n",
            "Author: None\n",
            "Author-email: None\n",
            "License: GPLv3\n",
            "Location: /usr/local/lib/python3.6/dist-packages\n",
            "Requires: \n",
            "Required-by: \n",
            "---\n",
            "Name: PyCBC\n",
            "Version: 1.15.3\n",
            "Summary: Core library to analyze gravitational-wave data, find signals, and study their parameters.\n",
            "Home-page: http://www.pycbc.org/\n",
            "Author: The PyCBC team\n",
            "Author-email: alex.nitz@gmail.org\n",
            "License: UNKNOWN\n",
            "Location: /usr/local/lib/python3.6/dist-packages\n",
            "Requires: h5py, six, beautifulsoup4, Mako, tqdm, requests, pillow, ligo-segments, emcee, numpy, numpy, mpld3, lscsoft-glue, astropy, scipy, jinja2, decorator, cython, matplotlib\n",
            "Required-by: \n",
            "---\n",
            "Name: bilby\n",
            "Version: 0.6.3\n",
            "Summary: A user-friendly Bayesian inference library\n",
            "Home-page: https://git.ligo.org/lscsoft/bilby\n",
            "Author: Greg Ashton, Moritz Huebner, Paul Lasky, Colm Talbot\n",
            "Author-email: paul.lasky@monash.edu\n",
            "License: MIT\n",
            "Location: /usr/local/lib/python3.6/dist-packages\n",
            "Requires: pandas, tqdm, corner, dill, numpy, matplotlib, emcee, future, scipy, dynesty\n",
            "Required-by: \n"
          ],
          "name": "stdout"
        }
      ]
    },
    {
      "cell_type": "markdown",
      "metadata": {
        "id": "WyPQPdUktq7g",
        "colab_type": "text"
      },
      "source": [
        "**Important:** With Google Colab, you may need to restart the runtime after running the cell above."
      ]
    },
    {
      "cell_type": "markdown",
      "metadata": {
        "id": "Jm6XahNetq7g",
        "colab_type": "text"
      },
      "source": [
        "In general, we could install just what we need for this tutorial using `pip` as follows:"
      ]
    },
    {
      "cell_type": "code",
      "metadata": {
        "id": "3-xB8wHHtq7h",
        "colab_type": "code",
        "colab": {
          "base_uri": "https://localhost:8080/",
          "height": 51
        },
        "outputId": "724db402-5598-416c-eccc-db96bb5e93c2"
      },
      "source": [
        "!{sys.executable} -m pip install \"gwosc\""
      ],
      "execution_count": 2,
      "outputs": [
        {
          "output_type": "stream",
          "text": [
            "Requirement already satisfied: gwosc in /usr/local/lib/python3.6/dist-packages (0.4.3)\n",
            "Requirement already satisfied: six>=1.9.0 in /usr/local/lib/python3.6/dist-packages (from gwosc) (1.12.0)\n"
          ],
          "name": "stdout"
        }
      ]
    },
    {
      "cell_type": "markdown",
      "metadata": {
        "id": "i6frOW2Atq7j",
        "colab_type": "text"
      },
      "source": [
        "<div class=\"alert alert-info\">Here we use <code>{sys.executable} -m pip install</code>, which is just a fancy way of saying <code>pip install ...</code></div>"
      ]
    },
    {
      "cell_type": "markdown",
      "metadata": {
        "id": "ypW62m_-tq7k",
        "colab_type": "text"
      },
      "source": [
        "## Querying for event information\n",
        "\n",
        "The gwosc.datasets module provides tools to search for datasets, including filtering on GPS times.\n",
        "\n",
        "For example, we can search for what event datasets are available:"
      ]
    },
    {
      "cell_type": "code",
      "metadata": {
        "id": "4vLKGJ3Ktq7l",
        "colab_type": "code",
        "colab": {
          "base_uri": "https://localhost:8080/",
          "height": 54
        },
        "outputId": "5096117b-6de4-4593-eadb-2ef95281c87b"
      },
      "source": [
        "from gwosc.datasets import find_datasets\n",
        "events = find_datasets(type=\"event\")\n",
        "print(events)"
      ],
      "execution_count": 3,
      "outputs": [
        {
          "output_type": "stream",
          "text": [
            "['151008', '151012A', '151116', '161202', '161217', '170208', '170219', '170405', '170412', '170423', '170616', '170630', '170705', '170720', 'GW150914', 'GW151012', 'GW151226', 'GW170104', 'GW170608', 'GW170729', 'GW170809', 'GW170814', 'GW170817', 'GW170818', 'GW170823']\n"
          ],
          "name": "stdout"
        }
      ]
    },
    {
      "cell_type": "markdown",
      "metadata": {
        "id": "zSTfNRr9tq7m",
        "colab_type": "text"
      },
      "source": [
        "As of O2, there are 25 event datasets available; 11 of those are confident detections (with the `'GW'` prefix), the other are _marginal_ detections. For more details, see [GWTC-1](https://www.gw-openscience.org/GWTC-1/). \n",
        "\n",
        "`find_datasets` also accepts a `detector` keyword to return only those datasets that include data for that detector:"
      ]
    },
    {
      "cell_type": "code",
      "metadata": {
        "id": "Ra-mEZZFtq7n",
        "colab_type": "code",
        "colab": {
          "base_uri": "https://localhost:8080/",
          "height": 51
        },
        "outputId": "690d58b8-56d6-44cc-ee41-c0074fbd8c18"
      },
      "source": [
        "print(find_datasets(type=\"event\", detector=\"V1\"))\n",
        "print(find_datasets(type=\"event\", detector=\"G1\"))"
      ],
      "execution_count": 4,
      "outputs": [
        {
          "output_type": "stream",
          "text": [
            "['GW170729', 'GW170809', 'GW170814', 'GW170817', 'GW170818']\n",
            "['GW170817']\n"
          ],
          "name": "stdout"
        }
      ]
    },
    {
      "cell_type": "markdown",
      "metadata": {
        "id": "hEwfmd2Otq7p",
        "colab_type": "text"
      },
      "source": [
        "`find_datasets` also accepts a `segment` keyword to narrow results based on GPS time:"
      ]
    },
    {
      "cell_type": "code",
      "metadata": {
        "id": "2YuwkVAHtq7q",
        "colab_type": "code",
        "colab": {
          "base_uri": "https://localhost:8080/",
          "height": 34
        },
        "outputId": "b851b593-832d-495f-f459-9993f10b320e"
      },
      "source": [
        "print(find_datasets(type=\"event\", detector=\"L1\", segment=(1164556817, 1187733618)))"
      ],
      "execution_count": 5,
      "outputs": [
        {
          "output_type": "stream",
          "text": [
            "['161202', '161217', '170208', '170219', '170405', '170412', '170423', '170616', '170630', '170705', '170720', 'GW170104', 'GW170608', 'GW170729', 'GW170809', 'GW170814', 'GW170817', 'GW170818', 'GW170823']\n"
          ],
          "name": "stdout"
        }
      ]
    },
    {
      "cell_type": "markdown",
      "metadata": {
        "id": "e2a9lcsrtq7s",
        "colab_type": "text"
      },
      "source": [
        "Using `gwosc.datasets.event_gps`, we can query for the GPS time of a specific event:"
      ]
    },
    {
      "cell_type": "code",
      "metadata": {
        "id": "Ilboth2Ktq7t",
        "colab_type": "code",
        "colab": {
          "base_uri": "https://localhost:8080/",
          "height": 34
        },
        "outputId": "bc980c14-4f0b-4ada-c385-4116250b3d42"
      },
      "source": [
        "from gwosc.datasets import event_gps\n",
        "gps = event_gps('GW170817')\n",
        "print(gps)"
      ],
      "execution_count": 6,
      "outputs": [
        {
          "output_type": "stream",
          "text": [
            "1187008882.4\n"
          ],
          "name": "stdout"
        }
      ]
    },
    {
      "cell_type": "markdown",
      "metadata": {
        "id": "tn9uP1vYtq7v",
        "colab_type": "text"
      },
      "source": [
        "<div class=\"alert alert-info\">All of these times are returned in the GPS time system, which counts the number of seconds that have elapsed since the start of the GPS epoch at midnight (00:00) on January 6th 1980. GWOSC provides a <a href=\"https://www.gw-openscience.org/gps/\">GPS time converter</a> you can use to translate into datetime, or you can use <a href=\"https://gwpy.github.io/docs/stable/time/\"><code>gwpy.time</code></a>.</div>"
      ]
    },
    {
      "cell_type": "markdown",
      "metadata": {
        "id": "-6MLgayptq7x",
        "colab_type": "text"
      },
      "source": [
        "We can query for the GPS time interval for an observing run:"
      ]
    },
    {
      "cell_type": "code",
      "metadata": {
        "id": "4epLsENatq7x",
        "colab_type": "code",
        "colab": {
          "base_uri": "https://localhost:8080/",
          "height": 34
        },
        "outputId": "97e65b85-4545-440f-9a74-1c2d2d9b644a"
      },
      "source": [
        "from gwosc.datasets import run_segment\n",
        "print(run_segment('O1'))"
      ],
      "execution_count": 7,
      "outputs": [
        {
          "output_type": "stream",
          "text": [
            "(1126051217, 1137254417)\n"
          ],
          "name": "stdout"
        }
      ]
    },
    {
      "cell_type": "markdown",
      "metadata": {
        "id": "e9aiqwoQtq70",
        "colab_type": "text"
      },
      "source": [
        "## Querying for data files\n",
        "\n",
        "The `gwosc.locate` module provides a function to find the URLs of data files associated with a given dataset.\n",
        "\n",
        "For event datasets, one can get the list of URLs using only the event name:"
      ]
    },
    {
      "cell_type": "code",
      "metadata": {
        "id": "sl5f2yxvtq71",
        "colab_type": "code",
        "colab": {
          "base_uri": "https://localhost:8080/",
          "height": 54
        },
        "outputId": "cf43a232-6cd2-41de-e610-35abd9b83839"
      },
      "source": [
        "from gwosc.locate import get_event_urls\n",
        "urls = get_event_urls('GW150914')\n",
        "print(urls)"
      ],
      "execution_count": 8,
      "outputs": [
        {
          "output_type": "stream",
          "text": [
            "['https://www.gw-osc.org/catalog/GWTC-1-confident/data/GW150914/H-H1_GWOSC_4KHZ_R1-1126259447-32.hdf5', 'https://www.gw-osc.org/catalog/GWTC-1-confident/data/GW150914/L-L1_GWOSC_4KHZ_R1-1126259447-32.hdf5', 'https://www.gw-osc.org/catalog/GWTC-1-confident/data/GW150914/H-H1_GWOSC_4KHZ_R1-1126257415-4096.hdf5', 'https://www.gw-osc.org/catalog/GWTC-1-confident/data/GW150914/L-L1_GWOSC_4KHZ_R1-1126257415-4096.hdf5']\n"
          ],
          "name": "stdout"
        }
      ]
    },
    {
      "cell_type": "markdown",
      "metadata": {
        "id": "CzJirqNDtq73",
        "colab_type": "text"
      },
      "source": [
        "By default, this function returns all of the files associated with a given event, which isn't particularly helpful. However, we can can filter on any of these by using keyword arguments, for example to get the URL for the 32-second file for the LIGO-Livingston detector:"
      ]
    },
    {
      "cell_type": "code",
      "metadata": {
        "id": "q_0psbGytq73",
        "colab_type": "code",
        "colab": {
          "base_uri": "https://localhost:8080/",
          "height": 34
        },
        "outputId": "34e50e31-677b-4cbf-9e5b-7feadee738fc"
      },
      "source": [
        "urls = get_event_urls('GW150914', duration=32, detector='L1')\n",
        "print(urls)"
      ],
      "execution_count": 9,
      "outputs": [
        {
          "output_type": "stream",
          "text": [
            "['https://www.gw-osc.org/catalog/GWTC-1-confident/data/GW150914/L-L1_GWOSC_4KHZ_R1-1126259447-32.hdf5']\n"
          ],
          "name": "stdout"
        }
      ]
    },
    {
      "cell_type": "markdown",
      "metadata": {
        "id": "FnJXDdVLtq75",
        "colab_type": "text"
      },
      "source": [
        "# Exercises\n",
        "\n",
        "Now that you've seen examples of how to query for dataset information using the `gwosc` package, please try and complete the following exercies using that interface:\n",
        "\n",
        "- How many months did S6 last?\n",
        "- How many events were detected during O1?\n",
        "- What file URL contains data for V1 4096 seconds around GW170817?"
      ]
    }
  ]
}